{
 "cells": [
  {
   "cell_type": "markdown",
   "metadata": {},
   "source": [
    "### Flood Fill\n",
    "recursive call to fill based on the 4 positions around it. using DFS"
   ]
  },
  {
   "cell_type": "code",
   "execution_count": 2,
   "metadata": {},
   "outputs": [
    {
     "data": {
      "text/plain": [
       "[[2, 2, 2], [2, 2, 0], [2, 0, 1]]"
      ]
     },
     "execution_count": 2,
     "metadata": {},
     "output_type": "execute_result"
    }
   ],
   "source": [
    "def floodFill(image, sr, sc, color):\n",
    "    originalColor = image[sr][sc]\n",
    "\n",
    "    def fill(image, sr, sc):\n",
    "        if(sr < 0 or sc < 0 or sr >= len(image) or sc >= len(image[0]) or image[sr][sc] != originalColor):\n",
    "            return \n",
    "        else:\n",
    "            image[sr][sc] = color\n",
    "            fill(image, sr-1, sc)\n",
    "            fill(image, sr+1, sc)\n",
    "            fill(image, sr, sc+1)\n",
    "            fill(image, sr, sc-1)\n",
    "    fill(image, sr, sc)\n",
    "\n",
    "    return image\n",
    "\n",
    "image = [[1,1,1],\n",
    "         [1,1,0],\n",
    "         [1,0,1]]\n",
    "sr = 1\n",
    "sc = 1\n",
    "color = 2\n",
    "floodFill(image, sr, sc, color)"
   ]
  },
  {
   "cell_type": "markdown",
   "metadata": {},
   "source": [
    "### 01 matrix\n",
    "go from left to right and top to bottom initially, changing individual pieces. Than after thats finished go from right to left \n",
    "and bottom to top to finish the process, while updating each individual piece."
   ]
  },
  {
   "cell_type": "code",
   "execution_count": 29,
   "metadata": {},
   "outputs": [
    {
     "data": {
      "text/plain": [
       "[[0, 1, 1, 1, 0], [1, 1, 0, 1, 1], [2, 2, 1, 1, 0]]"
      ]
     },
     "execution_count": 29,
     "metadata": {},
     "output_type": "execute_result"
    }
   ],
   "source": [
    "import math\n",
    "\n",
    "\n",
    "def updateMatrix(mat):\n",
    "    height, width = len(mat[0]), len(mat)\n",
    "\n",
    "    for x in range(width):\n",
    "        for y in range(height):\n",
    "            if mat[x][y] > 0:\n",
    "                top = mat[x][y-1] if y > 0 else math.inf\n",
    "                left = mat[x-1][y] if x > 0 else math.inf\n",
    "                mat[x][y] = min(top, left) + 1\n",
    "\n",
    "    for x in range(width - 1, -1, -1):\n",
    "        for y in range(height - 1, -1, -1):\n",
    "            if mat[x][y] > 0:\n",
    "                bottom = mat[x][y+1] if y < height - 1 else math.inf\n",
    "                right = mat[x+1][y] if x < width - 1 else math.inf\n",
    "                mat[x][y] = min(mat[x][y], bottom + 1, right + 1)\n",
    "\n",
    "    return mat\n",
    "\n",
    "testing = updateMatrix([[0, 1, 2, 3, 0], [1, 2, 0, 1, 1], [2, 3, 1, 2, 0]])\n",
    "\n",
    "testing\n"
   ]
  },
  {
   "cell_type": "markdown",
   "metadata": {},
   "source": [
    "### NEW "
   ]
  },
  {
   "cell_type": "code",
   "execution_count": 25,
   "metadata": {},
   "outputs": [
    {
     "name": "stdout",
     "output_type": "stream",
     "text": [
      "0\n",
      "4\n",
      "8\n",
      "1\n",
      "5\n",
      "9\n",
      "2\n",
      "6\n",
      "10\n",
      "3\n",
      "7\n",
      "11\n"
     ]
    }
   ],
   "source": [
    "testing = [[0, 1, 2, 3],[4, 5, 6, 7] , [8, 9, 10, 11]]\n",
    "\n",
    "width = len(testing[0])\n",
    "height = len(testing)\n",
    "\n",
    "for x in range(width):\n",
    "    for y in range(height):\n",
    "        print(testing[y][x])"
   ]
  },
  {
   "cell_type": "code",
   "execution_count": null,
   "metadata": {},
   "outputs": [],
   "source": []
  }
 ],
 "metadata": {
  "kernelspec": {
   "display_name": "Python 3.8.5 ('base')",
   "language": "python",
   "name": "python3"
  },
  "language_info": {
   "codemirror_mode": {
    "name": "ipython",
    "version": 3
   },
   "file_extension": ".py",
   "mimetype": "text/x-python",
   "name": "python",
   "nbconvert_exporter": "python",
   "pygments_lexer": "ipython3",
   "version": "3.8.5"
  },
  "orig_nbformat": 4,
  "vscode": {
   "interpreter": {
    "hash": "56db2256fb2eec42b2e8ebbbcfed35d3ab5fa27a52f6623c2593ea67ae53ceea"
   }
  }
 },
 "nbformat": 4,
 "nbformat_minor": 2
}
