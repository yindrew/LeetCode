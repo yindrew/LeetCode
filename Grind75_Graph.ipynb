{
 "cells": [
  {
   "cell_type": "markdown",
   "metadata": {},
   "source": [
    "### Flood Fill\n",
    "recursive call to fill based on the 4 positions around it. using DFS"
   ]
  },
  {
   "cell_type": "code",
   "execution_count": 2,
   "metadata": {},
   "outputs": [
    {
     "data": {
      "text/plain": [
       "[[2, 2, 2], [2, 2, 0], [2, 0, 1]]"
      ]
     },
     "execution_count": 2,
     "metadata": {},
     "output_type": "execute_result"
    }
   ],
   "source": [
    "def floodFill(image, sr, sc, color):\n",
    "    originalColor = image[sr][sc]\n",
    "\n",
    "    def fill(image, sr, sc):\n",
    "        if(sr < 0 or sc < 0 or sr >= len(image) or sc >= len(image[0]) or image[sr][sc] != originalColor):\n",
    "            return \n",
    "        else:\n",
    "            image[sr][sc] = color\n",
    "            fill(image, sr-1, sc)\n",
    "            fill(image, sr+1, sc)\n",
    "            fill(image, sr, sc+1)\n",
    "            fill(image, sr, sc-1)\n",
    "    fill(image, sr, sc)\n",
    "\n",
    "    return image\n",
    "\n",
    "image = [[1,1,1],\n",
    "         [1,1,0],\n",
    "         [1,0,1]]\n",
    "sr = 1\n",
    "sc = 1\n",
    "color = 2\n",
    "floodFill(image, sr, sc, color)"
   ]
  },
  {
   "cell_type": "markdown",
   "metadata": {},
   "source": [
    "### NEW "
   ]
  },
  {
   "cell_type": "code",
   "execution_count": null,
   "metadata": {},
   "outputs": [],
   "source": []
  }
 ],
 "metadata": {
  "kernelspec": {
   "display_name": "Python 3.8.5 ('base')",
   "language": "python",
   "name": "python3"
  },
  "language_info": {
   "codemirror_mode": {
    "name": "ipython",
    "version": 3
   },
   "file_extension": ".py",
   "mimetype": "text/x-python",
   "name": "python",
   "nbconvert_exporter": "python",
   "pygments_lexer": "ipython3",
   "version": "3.8.5"
  },
  "orig_nbformat": 4,
  "vscode": {
   "interpreter": {
    "hash": "56db2256fb2eec42b2e8ebbbcfed35d3ab5fa27a52f6623c2593ea67ae53ceea"
   }
  }
 },
 "nbformat": 4,
 "nbformat_minor": 2
}
