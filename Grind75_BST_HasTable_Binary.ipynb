{
 "cells": [
  {
   "cell_type": "code",
   "execution_count": 2,
   "metadata": {},
   "outputs": [],
   "source": [
    "class TreeNode:\n",
    "    def __init__(self, x):\n",
    "        self.val = x\n",
    "        self.left = None\n",
    "        self.right = None"
   ]
  },
  {
   "cell_type": "markdown",
   "metadata": {},
   "source": [
    "Lowest Common Ancestor of a Binary Search Tree: recursive function where the trick is that we find the node where lowest ancestory is found when the two target nodes are greater and less than the root node "
   ]
  },
  {
   "cell_type": "code",
   "execution_count": 6,
   "metadata": {},
   "outputs": [
    {
     "data": {
      "text/plain": [
       "6"
      ]
     },
     "execution_count": 6,
     "metadata": {},
     "output_type": "execute_result"
    }
   ],
   "source": [
    "p = TreeNode(2)\n",
    "q = TreeNode(8)\n",
    "\n",
    "root = TreeNode(6)\n",
    "root.left = TreeNode(4)\n",
    "root.right = TreeNode(8)\n",
    "root.left.left = TreeNode(0)\n",
    "root.left.right = TreeNode(3)\n",
    "root.left.right.left = TreeNode(3)\n",
    "root.left.right.right = TreeNode(5)\n",
    "root.right.right = TreeNode(9)\n",
    "root.right.left = TreeNode(7)\n",
    "\n",
    "def lowestCommonAncestor(root, p, q):\n",
    "    if p.val < root.val and q.val < root.val:\n",
    "        return lowestCommonAncestor(root.left, p, q)\n",
    "    elif p.val < root.val and q.val < root.val:\n",
    "        return lowestCommonAncestor(root.right, p, q)\n",
    "    else:\n",
    "        return root.val\n",
    "    \n",
    "\n",
    "lowestCommonAncestor(root, p, q)\n"
   ]
  },
  {
   "cell_type": "markdown",
   "metadata": {},
   "source": [
    "Validate Binary Search Tree: 2 methods.\n",
    "1: use a recursive call having a 3 parameters, being the left and right. which symbolize what numbers r valid. the node must be greater than the left and smaller than the right\n",
    "2: in order search which returns smallest to largest. Check if the values are smallest to largest."
   ]
  },
  {
   "cell_type": "code",
   "execution_count": 33,
   "metadata": {},
   "outputs": [
    {
     "data": {
      "text/plain": [
       "True"
      ]
     },
     "execution_count": 33,
     "metadata": {},
     "output_type": "execute_result"
    }
   ],
   "source": [
    "root = TreeNode(5)\n",
    "root.left = TreeNode(3)\n",
    "root.right = TreeNode(8)\n",
    "root.left.left = TreeNode(2)\n",
    "root.left.right = TreeNode(4)\n",
    "root.right.left = TreeNode(6)\n",
    "root.right.right = TreeNode(9)\n",
    "\n",
    "def isValidBST(root):\n",
    "    def valid(root, left, right):\n",
    "        if not root:\n",
    "            return True\n",
    "        if left > root.val or right < root.val:\n",
    "            return False\n",
    "\n",
    "        return valid(root.left, left, root.val) and valid(root.right, root.val, right)\n",
    "\n",
    "    return valid(root, -100, 100)\n",
    "\n",
    "\n",
    "\n",
    "\n",
    "def isValidBST2(root):\n",
    "    arr = []\n",
    "    def inOrderSearch(root, arr):\n",
    "        if not root:\n",
    "            return \n",
    "        inOrderSearch(root.left, arr)\n",
    "        arr.append(root.val)\n",
    "        inOrderSearch(root.right, arr)\n",
    "\n",
    "\n",
    "\n",
    "\n",
    "isValidBST(root)\n"
   ]
  },
  {
   "cell_type": "markdown",
   "metadata": {},
   "source": [
    "Ransom Note create a dict of the letters we can use, and check if the letters in the message we want can fit within the dict"
   ]
  },
  {
   "cell_type": "code",
   "execution_count": 1,
   "metadata": {},
   "outputs": [
    {
     "data": {
      "text/plain": [
       "{'a': 1}"
      ]
     },
     "execution_count": 1,
     "metadata": {},
     "output_type": "execute_result"
    }
   ],
   "source": [
    "ransom = \"aac\"\n",
    "magazine = \"aab\"\n",
    "\n",
    "def canConstruct(ransomNote, magazine):\n",
    "    magDict = {}\n",
    "\n",
    "    for a in magazine:\n",
    "        if a in magDict:\n",
    "            magDict[a] += 1\n",
    "        else:\n",
    "            magDict[a] = 1\n",
    "\n",
    "    for letters in ransomNote:\n",
    "        if (letters in magDict):\n",
    "            magDict[letters] -= 1\n",
    "        else:\n",
    "            return False\n",
    "    return True\n",
    "\n",
    "\n",
    "\n",
    "\n",
    "dict = {\"a\": 2}\n",
    "\n",
    "dict[\"a\"] -= 1\n",
    "\n",
    "dict\n",
    "#canConstruct(ransom, magazine)\n",
    "\n"
   ]
  },
  {
   "cell_type": "markdown",
   "metadata": {},
   "source": [
    "Add Binary: turn to a list and use pop to get the last digit. than add using the right hand side"
   ]
  },
  {
   "cell_type": "code",
   "execution_count": null,
   "metadata": {},
   "outputs": [],
   "source": [
    "def addBinary2(a, b):\n",
    "    a, b = list(a), list(b)\n",
    "    carry, result = 0, ''\n",
    "\n",
    "    while a or b or carry:\n",
    "        if a:\n",
    "            carry += int(a.pop())\n",
    "        if b:\n",
    "            carry += int(b.pop())\n",
    "        result = (carry % 2) + result\n",
    "        carry = carry % 2"
   ]
  },
  {
   "cell_type": "code",
   "execution_count": null,
   "metadata": {},
   "outputs": [],
   "source": []
  },
  {
   "cell_type": "code",
   "execution_count": null,
   "metadata": {},
   "outputs": [],
   "source": [
    " "
   ]
  },
  {
   "cell_type": "code",
   "execution_count": 35,
   "metadata": {},
   "outputs": [
    {
     "name": "stdout",
     "output_type": "stream",
     "text": [
      "0\n"
     ]
    }
   ],
   "source": [
    "for a in range(1):\n",
    "    print(a)"
   ]
  }
 ],
 "metadata": {
  "kernelspec": {
   "display_name": "Python 3.8.5 ('base')",
   "language": "python",
   "name": "python3"
  },
  "language_info": {
   "codemirror_mode": {
    "name": "ipython",
    "version": 3
   },
   "file_extension": ".py",
   "mimetype": "text/x-python",
   "name": "python",
   "nbconvert_exporter": "python",
   "pygments_lexer": "ipython3",
   "version": "3.8.5"
  },
  "orig_nbformat": 4,
  "vscode": {
   "interpreter": {
    "hash": "56db2256fb2eec42b2e8ebbbcfed35d3ab5fa27a52f6623c2593ea67ae53ceea"
   }
  }
 },
 "nbformat": 4,
 "nbformat_minor": 2
}
