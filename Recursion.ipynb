{
 "cells": [
  {
   "cell_type": "markdown",
   "metadata": {},
   "source": [
    "### Permutations:"
   ]
  },
  {
   "cell_type": "code",
   "execution_count": 40,
   "metadata": {},
   "outputs": [
    {
     "data": {
      "text/plain": [
       "[[1, 2, 3], [1, 3, 2], [2, 1, 3], [2, 3, 1], [3, 1, 2], [3, 2, 1]]"
      ]
     },
     "execution_count": 40,
     "metadata": {},
     "output_type": "execute_result"
    }
   ],
   "source": [
    "def permute(nums):\n",
    "    res = []\n",
    "    dfs(nums, [], res)\n",
    "    return res\n",
    "\n",
    "def dfs(nums, path, res):\n",
    "    if not nums:\n",
    "        res.append(path) \n",
    "    for x in range(len(nums)):\n",
    "        dfs( nums[0:x] + nums[x+1:], path + [nums[x]], res)           \n",
    "\n",
    "permute([1, 2, 3])\n",
    "\n"
   ]
  },
  {
   "cell_type": "markdown",
   "metadata": {},
   "source": [
    "### Subsets"
   ]
  },
  {
   "cell_type": "code",
   "execution_count": 59,
   "metadata": {},
   "outputs": [
    {
     "data": {
      "text/plain": [
       "[[], [1], [2], [1, 2], [3], [1, 3], [2, 3], [1, 2, 3]]"
      ]
     },
     "execution_count": 59,
     "metadata": {},
     "output_type": "execute_result"
    }
   ],
   "source": [
    "def subsets(nums):\n",
    "    n = [[]]\n",
    "\n",
    "    for i in z:\n",
    "        temp = n.copy()\n",
    "        for x in n:\n",
    "            temp += [x + [i]]\n",
    "        n = temp\n",
    "    return n\n",
    "\n",
    "z = [1, 2, 3]\n",
    "subsets(z)\n",
    "\n",
    "\n"
   ]
  },
  {
   "cell_type": "markdown",
   "metadata": {},
   "source": [
    "### Letter combinations of a Phone Number"
   ]
  },
  {
   "cell_type": "code",
   "execution_count": 53,
   "metadata": {},
   "outputs": [
    {
     "data": {
      "text/plain": [
       "[1, 2, 3]"
      ]
     },
     "execution_count": 53,
     "metadata": {},
     "output_type": "execute_result"
    }
   ],
   "source": [
    "def letterCombinations(digits):\n",
    "    return []\n",
    "\n",
    "\n",
    "letterCombinations(\"23\")"
   ]
  },
  {
   "cell_type": "code",
   "execution_count": 83,
   "metadata": {},
   "outputs": [
    {
     "data": {
      "text/plain": [
       "['adj',\n",
       " 'adk',\n",
       " 'adl',\n",
       " 'aej',\n",
       " 'aek',\n",
       " 'ael',\n",
       " 'afj',\n",
       " 'afk',\n",
       " 'afl',\n",
       " 'bdj',\n",
       " 'bdk',\n",
       " 'bdl',\n",
       " 'bej',\n",
       " 'bek',\n",
       " 'bel',\n",
       " 'bfj',\n",
       " 'bfk',\n",
       " 'bfl',\n",
       " 'cdj',\n",
       " 'cdk',\n",
       " 'cdl',\n",
       " 'cej',\n",
       " 'cek',\n",
       " 'cel',\n",
       " 'cfj',\n",
       " 'cfk',\n",
       " 'cfl']"
      ]
     },
     "execution_count": 83,
     "metadata": {},
     "output_type": "execute_result"
    }
   ],
   "source": [
    "digits = \"235\"\n",
    "\n",
    "phoneDict = {\"2\": ['a', 'b', 'c'], \"3\": ['d', 'e', 'f'], \"4\": ['g', 'h', 'i'], \n",
    "             \"5\": ['j', 'k', 'l'], \"6\": ['m', 'n', 'o'], \"7\": ['p', 'q', 'r', 's'],\n",
    "             \"8\": ['t', 'u', 'v'], \"9\": [\"w\", \"x\", \"y\", \"z\"]}\n",
    "\n",
    "res = []\n",
    "\n",
    "def dfs(cur, path):\n",
    "    if len(path) == len(digits):\n",
    "        res.append(path)\n",
    "\n",
    "    for i in range(len(cur)):\n",
    "        dict = phoneDict[cur[i]]\n",
    "        for x in dict:\n",
    "            dfs(cur[i+1:], path + x)\n",
    "    return res\n",
    "\n",
    "dfs(digits, \"\")\n",
    "            \n",
    "\n",
    "\n",
    "\n",
    "\n",
    "\n"
   ]
  },
  {
   "cell_type": "code",
   "execution_count": 73,
   "metadata": {},
   "outputs": [
    {
     "ename": "TypeError",
     "evalue": "can only concatenate list (not \"int\") to list",
     "output_type": "error",
     "traceback": [
      "\u001b[0;31m---------------------------------------------------------------------------\u001b[0m",
      "\u001b[0;31mTypeError\u001b[0m                                 Traceback (most recent call last)",
      "\u001b[0;32m<ipython-input-73-222d30334592>\u001b[0m in \u001b[0;36m<module>\u001b[0;34m\u001b[0m\n\u001b[0;32m----> 1\u001b[0;31m \u001b[0;34m[\u001b[0m\u001b[0;34m]\u001b[0m \u001b[0;34m+\u001b[0m \u001b[0;36m5\u001b[0m\u001b[0;34m\u001b[0m\u001b[0;34m\u001b[0m\u001b[0m\n\u001b[0m",
      "\u001b[0;31mTypeError\u001b[0m: can only concatenate list (not \"int\") to list"
     ]
    }
   ],
   "source": [
    "[] + 5"
   ]
  },
  {
   "cell_type": "code",
   "execution_count": null,
   "metadata": {},
   "outputs": [],
   "source": []
  }
 ],
 "metadata": {
  "kernelspec": {
   "display_name": "Python 3.8.5 ('base')",
   "language": "python",
   "name": "python3"
  },
  "language_info": {
   "codemirror_mode": {
    "name": "ipython",
    "version": 3
   },
   "file_extension": ".py",
   "mimetype": "text/x-python",
   "name": "python",
   "nbconvert_exporter": "python",
   "pygments_lexer": "ipython3",
   "version": "3.8.5"
  },
  "orig_nbformat": 4,
  "vscode": {
   "interpreter": {
    "hash": "56db2256fb2eec42b2e8ebbbcfed35d3ab5fa27a52f6623c2593ea67ae53ceea"
   }
  }
 },
 "nbformat": 4,
 "nbformat_minor": 2
}
