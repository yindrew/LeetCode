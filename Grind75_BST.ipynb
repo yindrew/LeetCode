{
 "cells": [
  {
   "cell_type": "markdown",
   "metadata": {},
   "source": [
    "Lowest Common Ancestor of a Binary Search Tree: recursive function where the trick is that we find the node where lowest ancestory is found when the two target nodes are greater and less than the root node "
   ]
  },
  {
   "cell_type": "code",
   "execution_count": 2,
   "metadata": {},
   "outputs": [
    {
     "data": {
      "text/plain": [
       "{'a': 1}"
      ]
     },
     "execution_count": 2,
     "metadata": {},
     "output_type": "execute_result"
    }
   ],
   "source": [
    "ransom = \"aac\"\n",
    "magazine = \"aab\"\n",
    "\n",
    "def canConstruct(ransomNote, magazine):\n",
    "    magDict = {}\n",
    "\n",
    "    for a in magazine:\n",
    "        if a in magDict:\n",
    "            magDict[a] += 1\n",
    "        else:\n",
    "            magDict[a] = 1\n",
    "\n",
    "    for letters in ransomNote:\n",
    "        if (letters in magDict):\n",
    "            magDict[letters] -= 1\n",
    "        else:\n",
    "            return False\n",
    "    return True\n",
    "\n",
    "\n",
    "\n",
    "\n",
    "dict = {\"a\": 2}\n",
    "\n",
    "dict[\"a\"] -= 1\n",
    "\n",
    "dict\n",
    "#canConstruct(ransom, magazine)\n",
    "\n"
   ]
  },
  {
   "cell_type": "code",
   "execution_count": 3,
   "metadata": {},
   "outputs": [
    {
     "data": {
      "text/plain": [
       "Counter({'c': 1})"
      ]
     },
     "execution_count": 3,
     "metadata": {},
     "output_type": "execute_result"
    }
   ],
   "source": [
    "import collections\n",
    "collections.Counter(ransom) - collections.Counter(magazine)"
   ]
  },
  {
   "cell_type": "markdown",
   "metadata": {},
   "source": [
    "Add Binary: turn to a list and use pop to get the last digit. than add using the right hand side"
   ]
  },
  {
   "cell_type": "code",
   "execution_count": 15,
   "metadata": {},
   "outputs": [
    {
     "data": {
      "text/plain": [
       "'0110'"
      ]
     },
     "execution_count": 15,
     "metadata": {},
     "output_type": "execute_result"
    }
   ],
   "source": [
    "# given 2 binary strings return their sum as a binary string\n",
    "a = \"1\"\n",
    "b = \"101\"\n",
    "\n",
    "def addBinary(a, b) -> str:\n",
    "    final, carry = \"\", 0\n",
    "    reverseA, reverseB= ''.join(reversed(a)), ''.join(reversed(b))\n",
    "\n",
    "    longer = reverseA if len(a) > len(b) else reverseB\n",
    "    shorter = reverseB if len(a) > len(b) else reverseA\n",
    "\n",
    "    for a in range(len(shorter)):\n",
    "        sum = int(reverseA[a]) + int(reverseB[a]) + carry \n",
    "        if(sum >= 2):\n",
    "            carry = 1\n",
    "            sum %= 2\n",
    "        else:\n",
    "            carry = 0\n",
    "        final += str(sum)\n",
    "            \n",
    "    for b in range(len(shorter), len(longer)):\n",
    "        sum = int(longer[b]) + carry\n",
    "        if(sum >= 2):\n",
    "            carry = 1\n",
    "            sum %= 2\n",
    "        else:\n",
    "            carry = 0\n",
    "        final += str(sum)\n",
    "\n",
    "    final += str(carry)\n",
    "    return ''.join(reversed(final))\n",
    "\n",
    "addBinary(a, b)\n",
    "\n",
    "\n",
    "\n",
    "\n"
   ]
  },
  {
   "cell_type": "code",
   "execution_count": null,
   "metadata": {},
   "outputs": [],
   "source": [
    "def addBinary2(a, b):\n",
    "    a, b = list(a), list(b)\n",
    "    carry, result = 0, ''\n",
    "\n",
    "    while a or b or carry:\n",
    "        if a:\n",
    "            carry += int(a.pop())\n",
    "        if b:\n",
    "            carry += int(b.pop())\n",
    "        result = (carry % 2) + result\n",
    "        carry = carry % 2"
   ]
  },
  {
   "cell_type": "code",
   "execution_count": 2,
   "metadata": {},
   "outputs": [
    {
     "data": {
      "text/plain": [
       "5"
      ]
     },
     "execution_count": 2,
     "metadata": {},
     "output_type": "execute_result"
    }
   ],
   "source": [
    "\n",
    "a = [1, 2, 3, 4, 5]\n",
    "\n",
    "\n",
    "a.pop()"
   ]
  },
  {
   "cell_type": "code",
   "execution_count": null,
   "metadata": {},
   "outputs": [],
   "source": []
  },
  {
   "cell_type": "code",
   "execution_count": null,
   "metadata": {},
   "outputs": [],
   "source": [
    " "
   ]
  },
  {
   "cell_type": "code",
   "execution_count": null,
   "metadata": {},
   "outputs": [],
   "source": []
  }
 ],
 "metadata": {
  "kernelspec": {
   "display_name": "Python 3.8.5 ('base')",
   "language": "python",
   "name": "python3"
  },
  "language_info": {
   "codemirror_mode": {
    "name": "ipython",
    "version": 3
   },
   "file_extension": ".py",
   "mimetype": "text/x-python",
   "name": "python",
   "nbconvert_exporter": "python",
   "pygments_lexer": "ipython3",
   "version": "3.8.5"
  },
  "orig_nbformat": 4,
  "vscode": {
   "interpreter": {
    "hash": "56db2256fb2eec42b2e8ebbbcfed35d3ab5fa27a52f6623c2593ea67ae53ceea"
   }
  }
 },
 "nbformat": 4,
 "nbformat_minor": 2
}
