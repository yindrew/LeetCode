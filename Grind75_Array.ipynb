{
 "cells": [
  {
   "cell_type": "markdown",
   "metadata": {},
   "source": [
    "### Two Sum\n",
    "One pass through using a dictionary that holds all the past values and their indexes."
   ]
  },
  {
   "cell_type": "code",
   "execution_count": 183,
   "metadata": {},
   "outputs": [
    {
     "data": {
      "text/plain": [
       "(0, 1)"
      ]
     },
     "execution_count": 183,
     "metadata": {},
     "output_type": "execute_result"
    }
   ],
   "source": [
    "nums = [2, 7, 11, 15]\n",
    "target = 9\n",
    "\n",
    "def twoSum(nums, target):\n",
    "    newDict = {}\n",
    "    for a in range(len(nums)):\n",
    "        dif = target - nums[a]\n",
    "        if(dif in newDict):\n",
    "            return (newDict[dif], a)\n",
    "        newDict[nums[a]] = a\n",
    "\n",
    "twoSum(nums, target)"
   ]
  },
  {
   "cell_type": "markdown",
   "metadata": {},
   "source": [
    "### Best Time to buy and Sell Stock\n",
    "Using Kadane's algo to find the largest interval."
   ]
  },
  {
   "cell_type": "code",
   "execution_count": 184,
   "metadata": {},
   "outputs": [
    {
     "data": {
      "text/plain": [
       "5"
      ]
     },
     "execution_count": 184,
     "metadata": {},
     "output_type": "execute_result"
    }
   ],
   "source": [
    "prices = [7,1,5,3,6,4]\n",
    "\n",
    "def maxProfit(prices):\n",
    "    cur, maximum = 0, 0\n",
    "    for a in range(len(prices) - 1):\n",
    "        cur = max(prices[a+1] - prices[a] + cur, 0)\n",
    "        maximum = max(cur, maximum)\n",
    "    return maximum\n",
    "\n",
    "maxProfit(prices)"
   ]
  },
  {
   "cell_type": "markdown",
   "metadata": {},
   "source": [
    "### Majority Element\n",
    "Use the fact that majority needs over 50% of total votes. Boyer-Moore Majority Vote Algorithm. One counter that increments/decrements based on the next value."
   ]
  },
  {
   "cell_type": "code",
   "execution_count": 185,
   "metadata": {},
   "outputs": [
    {
     "data": {
      "text/plain": [
       "4"
      ]
     },
     "execution_count": 185,
     "metadata": {},
     "output_type": "execute_result"
    }
   ],
   "source": [
    "nums = [4, 3, 4]\n",
    "\n",
    "def majorityElement(nums):\n",
    "    counter, sol = 1, nums[0]\n",
    "    for a in range(1, len(nums)):\n",
    "        if(nums[a] == sol):\n",
    "            counter += 1\n",
    "        else:\n",
    "            counter -= 1\n",
    "\n",
    "        if (counter == 0):\n",
    "            sol = nums[a]\n",
    "            counter = 1\n",
    "    return sol\n",
    "\n",
    "majorityElement(nums)"
   ]
  },
  {
   "cell_type": "markdown",
   "metadata": {},
   "source": [
    "### Contains Duplicates\n",
    "many different ways of going about this. Easiest way is just to use a set."
   ]
  },
  {
   "cell_type": "code",
   "execution_count": 186,
   "metadata": {},
   "outputs": [
    {
     "data": {
      "text/plain": [
       "False"
      ]
     },
     "execution_count": 186,
     "metadata": {},
     "output_type": "execute_result"
    }
   ],
   "source": [
    "def containDuplicates(nums):\n",
    "    newSet = set()\n",
    "    for a in nums:\n",
    "        if (a in newSet):\n",
    "            return True\n",
    "        newSet.add(a)\n",
    "    return False\n",
    "    \n",
    "nums = [1,2,3]\n",
    "containDuplicates(nums)   "
   ]
  },
  {
   "cell_type": "markdown",
   "metadata": {},
   "source": [
    "### Insert Interval\n",
    "One pass, using if else statements to add to a array before the new interval or after while updating the value of the start and stop of the new Interval"
   ]
  },
  {
   "cell_type": "code",
   "execution_count": 187,
   "metadata": {},
   "outputs": [
    {
     "data": {
      "text/plain": [
       "[[1, 2], [3, 10], [12, 16]]"
      ]
     },
     "execution_count": 187,
     "metadata": {},
     "output_type": "execute_result"
    }
   ],
   "source": [
    "def insert(intervals, newInterval):\n",
    "    left, right = [], []\n",
    "    l, r = newInterval\n",
    "    for a in intervals:\n",
    "        if(l > a[1]):\n",
    "            left.append(a)\n",
    "        elif(r < a[0]):\n",
    "            right.append(a)\n",
    "        else:\n",
    "            l = min(l, a[0])\n",
    "            r = max(r, a[1])\n",
    "    return left + [[l, r]] + right\n",
    "\n",
    "intervals = [[1,2],[3,5],[6,7],[8,10],[12,16]]\n",
    "newInterval = [4,8]\n",
    "insert(intervals, newInterval)"
   ]
  },
  {
   "cell_type": "markdown",
   "metadata": {},
   "source": [
    "### 3Sum \n",
    "sorted array. That has 3 pointers where one is the left hand side, and the other 2 move based on the sum to find if there is a solution."
   ]
  },
  {
   "cell_type": "code",
   "execution_count": 188,
   "metadata": {},
   "outputs": [
    {
     "data": {
      "text/plain": [
       "[[-1, -1, 2], [-1, 0, 1]]"
      ]
     },
     "execution_count": 188,
     "metadata": {},
     "output_type": "execute_result"
    }
   ],
   "source": [
    "def threeSum(nums):\n",
    "    sol = []\n",
    "    nums.sort()\n",
    "    for l in range(len(nums) - 2):\n",
    "        if(l > 0 and nums[l] == nums[l - 1]):\n",
    "            continue\n",
    "        r = len(nums) - 1\n",
    "        m = l + 1\n",
    "        while(m < r):\n",
    "            if(nums[l] + nums[m] + nums[r] < 0):\n",
    "                m += 1\n",
    "            elif(nums[l] + nums[m] + nums[r] > 0):\n",
    "                r -= 1\n",
    "            else:\n",
    "                sol.append([nums[l], nums[m], nums[r]])\n",
    "\n",
    "                while(m < r and nums[m] == nums[m + 1]):\n",
    "                    m += 1\n",
    "                while(m < r and nums[r] == nums[r - 1]):\n",
    "                    r -= 1\n",
    "                m += 1\n",
    "                r -= 1\n",
    "    return sol\n",
    "\n",
    "nums = [-1,0,1,2,-1,-4]\n",
    "threeSum(nums)"
   ]
  },
  {
   "cell_type": "markdown",
   "metadata": {},
   "source": [
    "### Product of Array Except Self\n",
    "using a prefix and a postfix to find the values of the numbers multipled before them and after which lets you compute the solution "
   ]
  },
  {
   "cell_type": "code",
   "execution_count": 189,
   "metadata": {},
   "outputs": [
    {
     "data": {
      "text/plain": [
       "[24, 12, 8, 6]"
      ]
     },
     "execution_count": 189,
     "metadata": {},
     "output_type": "execute_result"
    }
   ],
   "source": [
    "def product(nums):\n",
    "    l, r = 1, 1\n",
    "    sol = []\n",
    "    for a in range(len(nums)):\n",
    "        sol.append(l)\n",
    "        l = l * nums[a]\n",
    "    \n",
    "    for b in range(len(nums) - 1, -1, -1):\n",
    "        sol[b] = sol[b] * r\n",
    "        r = r * nums[b]\n",
    "    return sol\n",
    "\n",
    "\n",
    "nums = [1,2,3,4]\n",
    "product(nums)"
   ]
  },
  {
   "cell_type": "markdown",
   "metadata": {},
   "source": [
    "### Combination Sum\n",
    "DFS using backtracing that checks if our total is greater or if its equal. Than recurisvely calls itself making sure it doesn't repeat "
   ]
  },
  {
   "cell_type": "code",
   "execution_count": 190,
   "metadata": {},
   "outputs": [
    {
     "data": {
      "text/plain": [
       "[[2, 2, 3], [2, 5]]"
      ]
     },
     "execution_count": 190,
     "metadata": {},
     "output_type": "execute_result"
    }
   ],
   "source": [
    "def combinationSum(candidates, target):\n",
    "    sol = []\n",
    "    n = len(candidates)\n",
    "\n",
    "    def dfs(idx, cur, total):\n",
    "        if(total > target):\n",
    "            return\n",
    "        if(total == target):\n",
    "            sol.append(cur)\n",
    "        for i in range(idx, n):\n",
    "            dfs(i, cur + [candidates[i]], total + candidates[i])\n",
    "    dfs(0, [], 0)\n",
    "    return sol\n",
    "\n",
    "candidates = [2, 3, 5]\n",
    "target = 7\n",
    "combinationSum(candidates, target)"
   ]
  },
  {
   "cell_type": "markdown",
   "metadata": {},
   "source": [
    "### Merge Intervals\n",
    "sort by first value. than append to the result list and check the last item with the current item."
   ]
  },
  {
   "cell_type": "code",
   "execution_count": 191,
   "metadata": {},
   "outputs": [
    {
     "data": {
      "text/plain": [
       "[[1, 2], [3, 6]]"
      ]
     },
     "execution_count": 191,
     "metadata": {},
     "output_type": "execute_result"
    }
   ],
   "source": [
    "def merge(intervals):\n",
    "    intervals.sort(key = lambda x: x[0])\n",
    "    sol = []\n",
    "\n",
    "    for a in intervals:\n",
    "        if not sol or sol[-1][1] < a[0]:\n",
    "            sol.append(a)\n",
    "        else:\n",
    "            sol[-1][1] = max(sol[-1][1], a[1])\n",
    "    return sol\n",
    "\n",
    "i = [[1, 2], [3, 4], [4, 5], [5, 6]]\n",
    "intervals = [[1,3],[2,6],[8,10],[15,18]]\n",
    "merge(i)"
   ]
  },
  {
   "cell_type": "markdown",
   "metadata": {},
   "source": [
    "### Sort Colors\n",
    "3 pointers. one for each color and switch positions accordingly"
   ]
  },
  {
   "cell_type": "code",
   "execution_count": 192,
   "metadata": {},
   "outputs": [
    {
     "data": {
      "text/plain": [
       "[0, 1, 1, 1, 2, 2, 2, 2]"
      ]
     },
     "execution_count": 192,
     "metadata": {},
     "output_type": "execute_result"
    }
   ],
   "source": [
    "def sortColors(nums):\n",
    "    l, m, r = 0, 0, len(nums)-1\n",
    "\n",
    "    while(m <= r):\n",
    "        if(nums[m] == 0):\n",
    "            nums[m], nums[l] = nums[l], nums[m]\n",
    "            l += 1\n",
    "            m += 1\n",
    "        elif(nums[m] == 2):\n",
    "            nums[m], nums[r] = nums[r], nums[m]\n",
    "            r -= 1\n",
    "        else:\n",
    "            m += 1\n",
    "nums = [0, 1, 2, 2, 1, 2, 1, 2]\n",
    "sortColors(nums)\n",
    "nums"
   ]
  },
  {
   "cell_type": "markdown",
   "metadata": {},
   "source": [
    "### Container With Most Water \n",
    "2 pointers starting at the first at last point"
   ]
  },
  {
   "cell_type": "code",
   "execution_count": 193,
   "metadata": {},
   "outputs": [
    {
     "data": {
      "text/plain": [
       "36"
      ]
     },
     "execution_count": 193,
     "metadata": {},
     "output_type": "execute_result"
    }
   ],
   "source": [
    "def maxArea(height):\n",
    "    tot, l, r = 0, 0, len(height) - 1\n",
    "    while(l < r):\n",
    "        tot = max(tot, min(height[l], height[r]) * (r - l))\n",
    "        if height[l] < height[r]:\n",
    "            l += 1\n",
    "        else:\n",
    "            r -= 1\n",
    "    return tot\n",
    "\n",
    "height = [2,3,10,5,7,8,9]\n",
    "maxArea(height)"
   ]
  },
  {
   "cell_type": "markdown",
   "metadata": {},
   "source": [
    "### new"
   ]
  },
  {
   "cell_type": "code",
   "execution_count": null,
   "metadata": {},
   "outputs": [],
   "source": []
  }
 ],
 "metadata": {
  "kernelspec": {
   "display_name": "Python 3.8.5 ('base')",
   "language": "python",
   "name": "python3"
  },
  "language_info": {
   "codemirror_mode": {
    "name": "ipython",
    "version": 3
   },
   "file_extension": ".py",
   "mimetype": "text/x-python",
   "name": "python",
   "nbconvert_exporter": "python",
   "pygments_lexer": "ipython3",
   "version": "3.8.5"
  },
  "orig_nbformat": 4,
  "vscode": {
   "interpreter": {
    "hash": "56db2256fb2eec42b2e8ebbbcfed35d3ab5fa27a52f6623c2593ea67ae53ceea"
   }
  }
 },
 "nbformat": 4,
 "nbformat_minor": 2
}
