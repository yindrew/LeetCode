{
 "cells": [
  {
   "cell_type": "markdown",
   "metadata": {},
   "source": [
    "Two Sum: One pass through using a dictionary that holds all the past values and their indexes."
   ]
  },
  {
   "cell_type": "code",
   "execution_count": 3,
   "metadata": {},
   "outputs": [
    {
     "name": "stdout",
     "output_type": "stream",
     "text": [
      "(0, 1)\n"
     ]
    }
   ],
   "source": [
    "nums = [2, 7, 11, 15]\n",
    "target = 9\n",
    "\n",
    "def TwoSum(nums, target):\n",
    "    newDict = {}\n",
    "    for a in range(len(nums)):\n",
    "        dif = target - nums[a]\n",
    "        if(dif in newDict):\n",
    "            return (newDict[dif], a)\n",
    "        newDict[nums[a]] = a\n",
    "\n",
    "print(TwoSum(nums, target))"
   ]
  },
  {
   "cell_type": "markdown",
   "metadata": {},
   "source": [
    "Best Time to buy and Sell Stock: Using Kadane's algo to find the largest interval."
   ]
  },
  {
   "cell_type": "code",
   "execution_count": 6,
   "metadata": {},
   "outputs": [
    {
     "name": "stdout",
     "output_type": "stream",
     "text": [
      "5\n"
     ]
    }
   ],
   "source": [
    "prices = [7,1,5,3,6,4]\n",
    "\n",
    "def maxProfit(prices):\n",
    "    cur, maximum = 0, 0\n",
    "    for a in range(len(prices) - 1):\n",
    "        cur = max(prices[a+1] - prices[a] + cur, 0)\n",
    "        maximum = max(cur, maximum)\n",
    "    return maximum\n",
    "\n",
    "print(maxProfit(prices))"
   ]
  },
  {
   "cell_type": "markdown",
   "metadata": {},
   "source": [
    "Majority Element: Use the fact that majority needs over 50% of total votes. Boyer-Moore Majority Vote Algorithm. One counter that increments/decrements based on the next value."
   ]
  },
  {
   "cell_type": "code",
   "execution_count": 12,
   "metadata": {},
   "outputs": [
    {
     "name": "stdout",
     "output_type": "stream",
     "text": [
      "4\n"
     ]
    }
   ],
   "source": [
    "nums = [4, 3, 4]\n",
    "\n",
    "def majorityElement(nums):\n",
    "    counter, sol = 1, nums[0]\n",
    "    for a in range(1, len(nums)):\n",
    "        if(nums[a] == sol):\n",
    "            counter += 1\n",
    "        else:\n",
    "            counter -= 1\n",
    "\n",
    "        if (counter == 0):\n",
    "            sol = nums[a]\n",
    "            counter = 1\n",
    "    return sol\n",
    "\n",
    "\n",
    "print(majorityElement(nums))\n",
    "\n"
   ]
  },
  {
   "cell_type": "markdown",
   "metadata": {},
   "source": [
    "Contains Duplicates: many different ways of going about this. Easiest way is just to use a set."
   ]
  },
  {
   "cell_type": "code",
   "execution_count": 15,
   "metadata": {},
   "outputs": [
    {
     "name": "stdout",
     "output_type": "stream",
     "text": [
      "False\n"
     ]
    }
   ],
   "source": [
    "nums = [1,2,3]\n",
    "def containDuplicates(nums):\n",
    "    newSet = set()\n",
    "    for a in nums:\n",
    "        if (a in newSet):\n",
    "            return True\n",
    "        newSet.add(a)\n",
    "    return False\n",
    "\n",
    "print(containDuplicates(nums))\n",
    "    "
   ]
  }
 ],
 "metadata": {
  "kernelspec": {
   "display_name": "Python 3.8.9 64-bit",
   "language": "python",
   "name": "python3"
  },
  "language_info": {
   "codemirror_mode": {
    "name": "ipython",
    "version": 3
   },
   "file_extension": ".py",
   "mimetype": "text/x-python",
   "name": "python",
   "nbconvert_exporter": "python",
   "pygments_lexer": "ipython3",
   "version": "3.8.9"
  },
  "orig_nbformat": 4,
  "vscode": {
   "interpreter": {
    "hash": "31f2aee4e71d21fbe5cf8b01ff0e069b9275f58929596ceb00d14d90e3e16cd6"
   }
  }
 },
 "nbformat": 4,
 "nbformat_minor": 2
}
