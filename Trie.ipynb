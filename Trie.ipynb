{
 "cells": [
  {
   "cell_type": "markdown",
   "metadata": {},
   "source": [
    "### Word Break"
   ]
  },
  {
   "cell_type": "code",
   "execution_count": 71,
   "metadata": {},
   "outputs": [
    {
     "name": "stdout",
     "output_type": "stream",
     "text": [
      "[True, True, True, False, True]\n"
     ]
    },
    {
     "data": {
      "text/plain": [
       "True"
      ]
     },
     "execution_count": 71,
     "metadata": {},
     "output_type": "execute_result"
    }
   ],
   "source": [
    "def wordBreak(s, wordDict):\n",
    "    dp = [False] * (len(s) + 1)\n",
    "    dp[len(s)] = True\n",
    "\n",
    "    for x in range(len(dp) - 1, -1, -1):\n",
    "        for i in wordDict:\n",
    "            if len(i) + x <= len(dp):            \n",
    "                if i == s[x:x+len(i)] and dp[x] != True:\n",
    "                    dp[x] = dp[x + len(i)]\n",
    "    print(dp)\n",
    "    return dp[0]\n",
    "                \n",
    "\n",
    "\n",
    "\n",
    "s = \"abcd\"\n",
    "wordDict = [\"a\",\"abc\",\"b\", \"cd\"]\n",
    "\n",
    "\n",
    "wordBreak(s, wordDict)"
   ]
  },
  {
   "cell_type": "code",
   "execution_count": 70,
   "metadata": {},
   "outputs": [
    {
     "data": {
      "text/plain": [
       "'b'"
      ]
     },
     "execution_count": 70,
     "metadata": {},
     "output_type": "execute_result"
    }
   ],
   "source": [
    "a = \"abcd\"\n",
    "\n",
    "a[1:2]"
   ]
  },
  {
   "cell_type": "markdown",
   "metadata": {},
   "source": []
  }
 ],
 "metadata": {
  "kernelspec": {
   "display_name": "Python 3.8.5 ('base')",
   "language": "python",
   "name": "python3"
  },
  "language_info": {
   "codemirror_mode": {
    "name": "ipython",
    "version": 3
   },
   "file_extension": ".py",
   "mimetype": "text/x-python",
   "name": "python",
   "nbconvert_exporter": "python",
   "pygments_lexer": "ipython3",
   "version": "3.8.5"
  },
  "orig_nbformat": 4,
  "vscode": {
   "interpreter": {
    "hash": "56db2256fb2eec42b2e8ebbbcfed35d3ab5fa27a52f6623c2593ea67ae53ceea"
   }
  }
 },
 "nbformat": 4,
 "nbformat_minor": 2
}
