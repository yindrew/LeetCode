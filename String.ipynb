{
 "cells": [
  {
   "cell_type": "markdown",
   "metadata": {},
   "source": [
    "### Valid Palindrone\n",
    "Convert all words and letters to valid format and have 2 pointers loop thru front front of the word to end of the word"
   ]
  },
  {
   "cell_type": "code",
   "execution_count": 7,
   "metadata": {},
   "outputs": [
    {
     "data": {
      "text/plain": [
       "False"
      ]
     },
     "execution_count": 7,
     "metadata": {},
     "output_type": "execute_result"
    }
   ],
   "source": [
    "def isPalin(s):\n",
    "    s = ''.join(i for i in s if i.isalnum())\n",
    "    s = s.lower()\n",
    "    l, r = 0, len(s) - 1\n",
    "    while(l < r):\n",
    "        if(s[l] != s[r]):\n",
    "            return False\n",
    "        l += 1\n",
    "        r -= 1\n",
    "    return True\n",
    "\n",
    "s = \"Hello... Owlleh\"\n",
    "isPalin(s)\n"
   ]
  },
  {
   "cell_type": "markdown",
   "metadata": {},
   "source": [
    "### Valid Anagram\n",
    "Using dictonary with each letter as a key and the number of times they have been used as the value. Then removing them when checking if its a anagram"
   ]
  },
  {
   "cell_type": "code",
   "execution_count": 5,
   "metadata": {},
   "outputs": [
    {
     "data": {
      "text/plain": [
       "True"
      ]
     },
     "execution_count": 5,
     "metadata": {},
     "output_type": "execute_result"
    }
   ],
   "source": [
    "def isAnagram(s, t):\n",
    "    newDict = {}\n",
    "    for a in s:\n",
    "        if a in newDict:\n",
    "            newDict[a] += 1\n",
    "        else:\n",
    "            newDict[a] = 1\n",
    "\n",
    "    for x in t:\n",
    "        if x not in newDict:\n",
    "            return False\n",
    "        newDict[x] -= 1\n",
    "    \n",
    "    for a in newDict.values():\n",
    "        if( a != 0):\n",
    "            return False\n",
    "    return True\n",
    "    \n",
    "s, t = \"anagram\", \"nagaram\"\n",
    "isAnagram(s, t)"
   ]
  },
  {
   "cell_type": "markdown",
   "metadata": {},
   "source": [
    "### Longest Palindrone\n",
    "Use dictionary to find the number of times each letter is repeated and iterate through it to find odd instances. Palindrome add each copy of even values and 1 off of each copy of odd values. "
   ]
  },
  {
   "cell_type": "code",
   "execution_count": 6,
   "metadata": {},
   "outputs": [
    {
     "data": {
      "text/plain": [
       "7"
      ]
     },
     "execution_count": 6,
     "metadata": {},
     "output_type": "execute_result"
    }
   ],
   "source": [
    "def longestPalindrome(s):\n",
    "    newDict, odd = {}, 0\n",
    "\n",
    "    for a in s:\n",
    "        if(a in newDict):\n",
    "            newDict[a] += 1\n",
    "        else:\n",
    "            newDict[a] = 1\n",
    "    for x in newDict.values():\n",
    "        odd += (x & 1)\n",
    "    return len(s) - odd + bool(odd)\n",
    "    \n",
    "s = \"abccccdd\"\n",
    "longestPalindrome(s)"
   ]
  },
  {
   "cell_type": "markdown",
   "metadata": {},
   "source": [
    "### Longest Substring without repeating Characters\n",
    "Use a sliding door alg to find the longest substring. "
   ]
  },
  {
   "cell_type": "code",
   "execution_count": 33,
   "metadata": {},
   "outputs": [
    {
     "data": {
      "text/plain": [
       "{'d', 'f', 'v'}"
      ]
     },
     "execution_count": 33,
     "metadata": {},
     "output_type": "execute_result"
    }
   ],
   "source": [
    "def lengthOfLongestSubstring(s):\n",
    "    l = 0\n",
    "    cur = set()\n",
    "    res = 0\n",
    "    for i in range(len(s)):\n",
    "        while s[i] in cur:\n",
    "            cur.remove(s[l])\n",
    "            l += 1\n",
    "        cur.add(s[i])\n",
    "        res = max(res, i - l + 1)\n",
    "    return cur\n",
    "    \n",
    "s = \"abcabcbb\"\n",
    "#s = \"bbbbb\"\n",
    "#s = \"pwwkew\"\n",
    "s = \"dvdf\"\n",
    "lengthOfLongestSubstring(s)"
   ]
  },
  {
   "cell_type": "markdown",
   "metadata": {},
   "source": [
    "### String to Integer (atoi)"
   ]
  },
  {
   "cell_type": "code",
   "execution_count": 55,
   "metadata": {},
   "outputs": [
    {
     "data": {
      "text/plain": [
       "42"
      ]
     },
     "execution_count": 55,
     "metadata": {},
     "output_type": "execute_result"
    }
   ],
   "source": [
    "def myAtoi(s):\n",
    "    isNegative = 1\n",
    "    x = 0\n",
    "    s = s.strip()\n",
    "    res = \"\"\n",
    "    if not s:\n",
    "        return 0\n",
    "    if(s[0] == \"-\"):\n",
    "        isNegative = -1\n",
    "        x += 1\n",
    "    elif(s[0] == \"+\"):\n",
    "        isNegative = 1\n",
    "        x += 1\n",
    "    else:\n",
    "        x = 0\n",
    "\n",
    "    while x < len(s) and s[x] in [\"0\", \"1\", \"2\", \"3\", \"4\", \"5\", \"6\", \"7\", \"8\", \"9\"]:\n",
    "        if(s[x] == \"0\" and not res):\n",
    "            x += 1\n",
    "        else:\n",
    "            res += s[x]\n",
    "            x += 1\n",
    "\n",
    "    if not res:\n",
    "        res = 0\n",
    "    else:\n",
    "        res = int(res) * isNegative\n",
    "        if res < (-2 ** 31):\n",
    "            res = (-2**31)\n",
    "        elif res > (2**31 - 1):\n",
    "            res = (2**31 - 1)\n",
    "        else:\n",
    "            res = res\n",
    "    return res\n",
    "\n",
    "\n",
    "s = \"   -0004193 with words\"\n",
    "s = \"42\"\n",
    "myAtoi(s)    "
   ]
  },
  {
   "cell_type": "markdown",
   "metadata": {},
   "source": [
    "### Longest Palindronic Substring\n",
    "2 cases - even or odd. \n",
    "use 2 pointers that loop outwards from each index and if they're equal we add them"
   ]
  },
  {
   "cell_type": "code",
   "execution_count": 76,
   "metadata": {},
   "outputs": [
    {
     "data": {
      "text/plain": [
       "'bb'"
      ]
     },
     "execution_count": 76,
     "metadata": {},
     "output_type": "execute_result"
    }
   ],
   "source": [
    "def longestPalindrome(s):\n",
    "    res = \"\"\n",
    "    \n",
    "    def helper(s, l, r):\n",
    "        while l >= 0 and r < len(s) and s[l] == s[r]:\n",
    "            l -= 1\n",
    "            r += 1  \n",
    "        return s[l+1:r]\n",
    "\n",
    "    for i in range(len(s)):\n",
    "        odd = helper(s, i, i)\n",
    "        even = helper(s, i, i+1)\n",
    "\n",
    "        res = max(odd, even, res, key=len)\n",
    "    return res\n",
    "\n",
    "s = \"cbbd\"\n",
    "longestPalindrome(s)"
   ]
  },
  {
   "cell_type": "markdown",
   "metadata": {},
   "source": [
    "### Find all Anagrams in a String\n"
   ]
  },
  {
   "cell_type": "code",
   "execution_count": 129,
   "metadata": {},
   "outputs": [
    {
     "data": {
      "text/plain": [
       "[0, 6]"
      ]
     },
     "execution_count": 129,
     "metadata": {},
     "output_type": "execute_result"
    }
   ],
   "source": [
    "def findAnagrams(s, p):\n",
    "    pDict = {}\n",
    "    sDict = {}\n",
    "    l = 0\n",
    "    if len(p) > len(s):\n",
    "        return []\n",
    "        \n",
    "    for i in range(len(p)):\n",
    "        pDict[p[i]] = 1 + pDict.get(p[i], 0)\n",
    "        sDict[s[i]] = 1 + sDict.get(s[i], 0)\n",
    "    \n",
    "    sol = [] if pDict != sDict else [0]\n",
    "\n",
    "    for idx in range(len(p), len(s)):\n",
    "        sDict[s[idx]] = 1 + sDict.get(s[idx], 0)\n",
    "        sDict[s[l]] -= 1\n",
    "        if sDict[s[l]] == 0:\n",
    "            sDict.pop(s[l])\n",
    "        l += 1\n",
    "        if pDict == sDict:\n",
    "            sol.append(l)\n",
    "    return sol\n",
    "\n",
    "s = \"cbaebabacd\"\n",
    "p = \"abc\"\n",
    "findAnagrams(s, p)"
   ]
  },
  {
   "cell_type": "markdown",
   "metadata": {},
   "source": [
    "### new"
   ]
  },
  {
   "cell_type": "code",
   "execution_count": null,
   "metadata": {},
   "outputs": [],
   "source": []
  }
 ],
 "metadata": {
  "kernelspec": {
   "display_name": "Python 3.8.5 ('base')",
   "language": "python",
   "name": "python3"
  },
  "language_info": {
   "codemirror_mode": {
    "name": "ipython",
    "version": 3
   },
   "file_extension": ".py",
   "mimetype": "text/x-python",
   "name": "python",
   "nbconvert_exporter": "python",
   "pygments_lexer": "ipython3",
   "version": "3.8.5"
  },
  "orig_nbformat": 4,
  "vscode": {
   "interpreter": {
    "hash": "56db2256fb2eec42b2e8ebbbcfed35d3ab5fa27a52f6623c2593ea67ae53ceea"
   }
  }
 },
 "nbformat": 4,
 "nbformat_minor": 2
}
