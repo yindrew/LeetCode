{
 "cells": [
  {
   "cell_type": "markdown",
   "metadata": {},
   "source": [
    "### K Closest Points to Origin\n",
    "find the distances and sort using a minheap. Than return the first k values in minheap"
   ]
  },
  {
   "cell_type": "code",
   "execution_count": 45,
   "metadata": {},
   "outputs": [
    {
     "data": {
      "text/plain": [
       "<function __main__.kClosest(points, k)>"
      ]
     },
     "execution_count": 45,
     "metadata": {},
     "output_type": "execute_result"
    }
   ],
   "source": [
    "import heapq\n",
    "\n",
    "\n",
    "def kClosest(points, k):\n",
    "    minHeap = []\n",
    "    for x,y in points:\n",
    "        dist = x**2 + y**2\n",
    "        minHeap.append([dist, x, y])\n",
    "    heapq.heapify(minHeap)\n",
    "    res = []\n",
    "\n",
    "    while k > 0:\n",
    "        dist, x, y = heapq.heappop(minHeap)\n",
    "        res.append([x, y])\n",
    "        k -= 1\n",
    "    \n",
    "    \n",
    "\n",
    "points = [[3,3],[5,-1],[-2,4]]\n",
    "k = 2\n",
    "\n",
    "kClosest"
   ]
  },
  {
   "cell_type": "markdown",
   "metadata": {},
   "source": [
    "### Task Scheduler\n"
   ]
  },
  {
   "cell_type": "code",
   "execution_count": 83,
   "metadata": {},
   "outputs": [
    {
     "data": {
      "text/plain": [
       "10"
      ]
     },
     "execution_count": 83,
     "metadata": {},
     "output_type": "execute_result"
    }
   ],
   "source": [
    "from collections import Counter, deque\n",
    "\n",
    "\n",
    "def leastInterval(tasks, n):\n",
    "    x = Counter(tasks)\n",
    "    maxHeap = [-i for i in x.values()]\n",
    "    heapq.heapify(maxHeap)\n",
    "    q = deque()\n",
    "    t = 0\n",
    "\n",
    "    while maxHeap or q:\n",
    "        t += 1\n",
    "        if maxHeap:\n",
    "            removed = 1 + heapq.heappop(maxHeap)\n",
    "            if removed != 0:\n",
    "                q.append([removed, t + n])\n",
    "\n",
    "        if q:\n",
    "            if q[0][1] == t:\n",
    "                heapq.heappush(maxHeap, q.popleft()[0])\n",
    "    return t\n",
    "\n",
    "    \n",
    "\n",
    "\n",
    "\n",
    "\n",
    "\n",
    "\n",
    "\n",
    "x =  [\"A\",\"A\",\"A\",\"B\",\"B\",\"B\", \"B\"]\n",
    "n = 2\n",
    "\n",
    "\n",
    "\n",
    "leastInterval(x, n)\n",
    "\n",
    "\n"
   ]
  },
  {
   "cell_type": "code",
   "execution_count": 82,
   "metadata": {},
   "outputs": [
    {
     "name": "stdout",
     "output_type": "stream",
     "text": [
      "1\n"
     ]
    }
   ],
   "source": [
    "if 0:\n",
    "    print(\"hi\")\n",
    "else:\n",
    "    print(1)"
   ]
  },
  {
   "cell_type": "code",
   "execution_count": null,
   "metadata": {},
   "outputs": [],
   "source": []
  },
  {
   "cell_type": "code",
   "execution_count": null,
   "metadata": {},
   "outputs": [],
   "source": []
  }
 ],
 "metadata": {
  "kernelspec": {
   "display_name": "Python 3.8.5 ('base')",
   "language": "python",
   "name": "python3"
  },
  "language_info": {
   "codemirror_mode": {
    "name": "ipython",
    "version": 3
   },
   "file_extension": ".py",
   "mimetype": "text/x-python",
   "name": "python",
   "nbconvert_exporter": "python",
   "pygments_lexer": "ipython3",
   "version": "3.8.5"
  },
  "orig_nbformat": 4,
  "vscode": {
   "interpreter": {
    "hash": "56db2256fb2eec42b2e8ebbbcfed35d3ab5fa27a52f6623c2593ea67ae53ceea"
   }
  }
 },
 "nbformat": 4,
 "nbformat_minor": 2
}
