{
 "cells": [
  {
   "cell_type": "markdown",
   "metadata": {},
   "source": [
    "Maximum Subarray: Kadane's alg to find the longest subarray with largest sum"
   ]
  },
  {
   "cell_type": "code",
   "execution_count": 7,
   "metadata": {},
   "outputs": [
    {
     "name": "stdout",
     "output_type": "stream",
     "text": [
      "-2\n",
      "1\n",
      "-2\n",
      "4\n",
      "3\n",
      "5\n",
      "6\n",
      "1\n",
      "5\n"
     ]
    },
    {
     "data": {
      "text/plain": [
       "6"
      ]
     },
     "execution_count": 7,
     "metadata": {},
     "output_type": "execute_result"
    }
   ],
   "source": [
    "nums = [-2,1,-3,4,-1,2,1,-5,4]\n",
    "def maxSubArray(nums):\n",
    "    curr, maximum = 0, nums[0]\n",
    "\n",
    "    for a in nums:\n",
    "        curr = max(a, curr + a) \n",
    "        print(curr)\n",
    "        maximum = max(maximum, curr)\n",
    "    return maximum\n",
    "        \n",
    "\n",
    "\n",
    "maxSubArray(nums)\n"
   ]
  },
  {
   "cell_type": "markdown",
   "metadata": {},
   "source": [
    "Climbing Stairs: pattern is 1-2-3-5-8. Follows the pattern of f(n) = f(n-1) + f(n-2) "
   ]
  },
  {
   "cell_type": "code",
   "execution_count": 12,
   "metadata": {},
   "outputs": [
    {
     "name": "stdout",
     "output_type": "stream",
     "text": [
      "8 13\n"
     ]
    }
   ],
   "source": [
    "n = 5\n",
    "def climb(n):\n",
    "    if(n == 1):\n",
    "        return 1\n",
    "    elif(n == 2):\n",
    "        return 2\n",
    "    else:\n",
    "        return climb(n-1) + climb(n-2)\n",
    "\n",
    "\n",
    "\n",
    "\n",
    "\n",
    "\n",
    "climb(n)\n",
    "\n",
    "\n",
    "a, b = 1, 1\n",
    "\n",
    "for _ in range(5):\n",
    "    a, b = b, a + b\n",
    "\n",
    "print(a, b)\n"
   ]
  },
  {
   "cell_type": "code",
   "execution_count": null,
   "metadata": {},
   "outputs": [],
   "source": []
  }
 ],
 "metadata": {
  "kernelspec": {
   "display_name": "Python 3.8.5 ('base')",
   "language": "python",
   "name": "python3"
  },
  "language_info": {
   "codemirror_mode": {
    "name": "ipython",
    "version": 3
   },
   "file_extension": ".py",
   "mimetype": "text/x-python",
   "name": "python",
   "nbconvert_exporter": "python",
   "pygments_lexer": "ipython3",
   "version": "3.8.5"
  },
  "orig_nbformat": 4,
  "vscode": {
   "interpreter": {
    "hash": "56db2256fb2eec42b2e8ebbbcfed35d3ab5fa27a52f6623c2593ea67ae53ceea"
   }
  }
 },
 "nbformat": 4,
 "nbformat_minor": 2
}
