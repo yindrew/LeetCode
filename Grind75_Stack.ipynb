{
 "cells": [
  {
   "cell_type": "markdown",
   "metadata": {},
   "source": [
    "### Valid Parentheses\n",
    "use dictionaries to find if open matches up with close. use a extra value in the list so it will never be empty. continously append and pop."
   ]
  },
  {
   "cell_type": "code",
   "execution_count": 1,
   "metadata": {},
   "outputs": [
    {
     "data": {
      "text/plain": [
       "True"
      ]
     },
     "execution_count": 1,
     "metadata": {},
     "output_type": "execute_result"
    }
   ],
   "source": [
    "def isValid(s):\n",
    "    myDict = {'(': ')', '{': '}', '[': ']'}\n",
    "    maps = []\n",
    "\n",
    "    if len(s) % 2 != 0:\n",
    "        return False\n",
    "\n",
    "    for char in s:\n",
    "        if char in myDict:\n",
    "            maps.append(char)\n",
    "        else:\n",
    "            if(len(maps) != 0 and char == maps[-1]):\n",
    "                maps.pop()\n",
    "            else:\n",
    "                return False\n",
    "    return (len(maps) == 0)\n",
    "                \n",
    "\n",
    "def isValid(s):\n",
    "    myDict = {0: None, '(': ')', '{': '}', '[': ']'}\n",
    "    maps = [0]\n",
    "\n",
    "    for char in s:\n",
    "        if char in myDict:\n",
    "            maps.append(char)\n",
    "        else:\n",
    "            if char != myDict[maps.pop()]: \n",
    "                return False\n",
    "    return (maps == [0])\n",
    "\n",
    "\n",
    "\n",
    "\n",
    "s = \"()[]{}\"\n",
    "isValid(s)"
   ]
  },
  {
   "cell_type": "markdown",
   "metadata": {},
   "source": [
    "### Implement Queue using Stacks\n",
    "using 2 arrays can help you put stuff in, and than using pop put it into the other array in opposite order, similar to a stack."
   ]
  },
  {
   "cell_type": "code",
   "execution_count": 2,
   "metadata": {},
   "outputs": [
    {
     "data": {
      "text/plain": [
       "[0]"
      ]
     },
     "execution_count": 2,
     "metadata": {},
     "output_type": "execute_result"
    }
   ],
   "source": [
    "class MyQueue:\n",
    "\n",
    "    def __init__(self):\n",
    "        self.stackOne = []\n",
    "        self.stackTwo = []\n",
    "\n",
    "    def push(self, x: int) -> None:\n",
    "        self.stackOne.append(x)        \n",
    "\n",
    "    def pop(self) -> int:\n",
    "        self.peek()\n",
    "        return self.stackTwo.pop()\n",
    "\n",
    "    def peek(self) -> int:\n",
    "        if not self.stackTwo:\n",
    "            while self.stackOne:\n",
    "                self.stackTwo.append(self.stackOne.pop())\n",
    "        return self.stackTwo[-1]\n",
    "\n",
    "    def empty(self) -> bool:\n",
    "        return not self.stackOne and not self.stackTwo"
   ]
  },
  {
   "cell_type": "markdown",
   "metadata": {},
   "source": [
    "### Evaluate Reverse Polish Notation\n",
    "use a dict to convet the operators into functions. than use a stack to add values and check if it is a operator and call the operator on the\n",
    "last 2 values in the stack\n"
   ]
  },
  {
   "cell_type": "code",
   "execution_count": 5,
   "metadata": {},
   "outputs": [
    {
     "data": {
      "text/plain": [
       "22"
      ]
     },
     "execution_count": 5,
     "metadata": {},
     "output_type": "execute_result"
    }
   ],
   "source": [
    "def evalRPN(tokens):\n",
    "        operators = {\n",
    "             \"+\": lambda x, y: x + y, \n",
    "             \"-\": lambda x, y: x - y, \n",
    "             \"*\": lambda x, y: x * y, \n",
    "             '/': lambda x, y: int(x/y)\n",
    "        }\n",
    "        l = len(tokens)\n",
    "        a = 0\n",
    "        while l >= 3 and a <= l - 1:\n",
    "            if tokens[a] in operators:\n",
    "                x = int(tokens.pop(a-2))\n",
    "                y = int(tokens.pop(a-2))\n",
    "                op = tokens.pop(a-2)\n",
    "                tokens.insert(a-2, str( operators[op](x, y) ))\n",
    "                a = 0\n",
    "                l = len(tokens)\n",
    "\n",
    "\n",
    "            else:\n",
    "                a += 1\n",
    "        return int(tokens[0])\n",
    "\n",
    "\n",
    "tokens = [\"10\",\"6\",\"9\",\"3\",\"+\",\"-11\",\"*\",\"/\",\"*\",\"17\",\"+\",\"5\",\"+\"]\n",
    "evalRPN(tokens)"
   ]
  },
  {
   "cell_type": "code",
   "execution_count": 4,
   "metadata": {},
   "outputs": [
    {
     "data": {
      "text/plain": [
       "22"
      ]
     },
     "execution_count": 4,
     "metadata": {},
     "output_type": "execute_result"
    }
   ],
   "source": [
    "def evalRPN(tokens):\n",
    "        operators = {\n",
    "            \"+\": lambda x, y: x + y, \n",
    "             \"-\": lambda x, y: x - y, \n",
    "             \"*\": lambda x, y: x * y, \n",
    "             '/': lambda x, y: int(x/y)\n",
    "        }\n",
    "        stack = []\n",
    "        for token in tokens:\n",
    "            if token not in operators:\n",
    "                stack.append(token)\n",
    "            else:\n",
    "                y, x = int(stack.pop()), int(stack.pop())\n",
    "                stack.append(operators[token](x, y))\n",
    "        return stack[0]\n",
    "\n",
    "\n",
    "\n",
    "\n",
    "tokens = [\"10\",\"6\",\"9\",\"3\",\"+\",\"-11\",\"*\",\"/\",\"*\",\"17\",\"+\",\"5\",\"+\"]\n",
    "evalRPN(tokens)"
   ]
  },
  {
   "cell_type": "markdown",
   "metadata": {},
   "source": [
    "### Min Stack\n",
    "Use 2 arrays, one to keep track of the minimum, and the other to track the actual values"
   ]
  },
  {
   "cell_type": "code",
   "execution_count": null,
   "metadata": {},
   "outputs": [],
   "source": [
    "class MinStack(object):\n",
    "\n",
    "    def __init__(self):\n",
    "        self.minStack = []\n",
    "        self.stack = []\n",
    "        \n",
    "\n",
    "    def push(self, val):\n",
    "        \"\"\"\n",
    "        :type val: int\n",
    "        :rtype: None\n",
    "        \"\"\"\n",
    "        self.stack.append(val)\n",
    "        if not self.minStack:\n",
    "            self.minStack.append(val)\n",
    "        else:\n",
    "            self.minStack.append(min(val, self.minStack[-1]))\n",
    "        \n",
    "        \n",
    "\n",
    "    def pop(self):\n",
    "        \"\"\"\n",
    "        :rtype: None\n",
    "        \"\"\"\n",
    "        self.stack.pop()\n",
    "        self.minStack.pop()\n",
    "        \n",
    "\n",
    "    def top(self):\n",
    "        \"\"\"\n",
    "        :rtype: int\n",
    "        \"\"\"\n",
    "        return self.stack[-1]\n",
    "        \n",
    "\n",
    "    def getMin(self):\n",
    "        \"\"\"\n",
    "        :rtype: int\n",
    "        \"\"\"\n",
    "        return self.minStack[-1]\n"
   ]
  },
  {
   "cell_type": "markdown",
   "metadata": {},
   "source": [
    "### NEW"
   ]
  },
  {
   "cell_type": "code",
   "execution_count": 2,
   "metadata": {},
   "outputs": [
    {
     "data": {
      "text/plain": [
       "('+', '5')"
      ]
     },
     "execution_count": 2,
     "metadata": {},
     "output_type": "execute_result"
    }
   ],
   "source": [
    "stack = []\n",
    "\n",
    "\n",
    "tokens = [\"10\",\"6\",\"9\",\"3\",\"+\",\"-11\",\"*\",\"/\",\"*\",\"17\",\"+\",\"5\",\"+\"]\n",
    "\n",
    "x, y = tokens.pop(), tokens.pop()\n",
    "\n",
    "x, y\n"
   ]
  },
  {
   "cell_type": "code",
   "execution_count": null,
   "metadata": {},
   "outputs": [],
   "source": []
  }
 ],
 "metadata": {
  "kernelspec": {
   "display_name": "Python 3.8.5 ('base')",
   "language": "python",
   "name": "python3"
  },
  "language_info": {
   "codemirror_mode": {
    "name": "ipython",
    "version": 3
   },
   "file_extension": ".py",
   "mimetype": "text/x-python",
   "name": "python",
   "nbconvert_exporter": "python",
   "pygments_lexer": "ipython3",
   "version": "3.8.5"
  },
  "orig_nbformat": 4,
  "vscode": {
   "interpreter": {
    "hash": "56db2256fb2eec42b2e8ebbbcfed35d3ab5fa27a52f6623c2593ea67ae53ceea"
   }
  }
 },
 "nbformat": 4,
 "nbformat_minor": 2
}
