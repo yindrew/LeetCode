{
 "cells": [
  {
   "cell_type": "markdown",
   "metadata": {},
   "source": [
    "Valid Parentheses: use dictionaries to find if open matches up with close. use a extra value in the list so it will never be empty. continously append and pop."
   ]
  },
  {
   "cell_type": "code",
   "execution_count": 7,
   "metadata": {},
   "outputs": [
    {
     "data": {
      "text/plain": [
       "False"
      ]
     },
     "execution_count": 7,
     "metadata": {},
     "output_type": "execute_result"
    }
   ],
   "source": [
    "s = \"()[]{}\"\n",
    "def isValid(s):\n",
    "    myDict = {'(': ')', '{': '}', '[': ']'}\n",
    "    maps = []\n",
    "\n",
    "    if len(s) % 2 != 0:\n",
    "        return False\n",
    "\n",
    "    for char in s:\n",
    "        if char in myDict:\n",
    "            maps.append(char)\n",
    "        else:\n",
    "            if(len(maps) != 0 and char == maps[-1]):\n",
    "                maps.pop()\n",
    "            else:\n",
    "                return False\n",
    "    return (len(maps) == 0)\n",
    "                \n",
    "\n",
    "\n",
    "\n",
    "def isValid(s):\n",
    "    myDict = {0: None, '(': ')', '{': '}', '[': ']'}\n",
    "    maps = [0]\n",
    "\n",
    "    for char in s:\n",
    "        if char in myDict:\n",
    "            maps.append(char)\n",
    "        else:\n",
    "            if char != myDict[maps.pop()]: \n",
    "                return False\n",
    "    return (maps == [0])\n",
    "\n",
    "\n",
    "\n",
    "\n",
    "\n",
    "isValid(s)"
   ]
  },
  {
   "cell_type": "code",
   "execution_count": 9,
   "metadata": {},
   "outputs": [
    {
     "data": {
      "text/plain": [
       "1"
      ]
     },
     "execution_count": 9,
     "metadata": {},
     "output_type": "execute_result"
    }
   ],
   "source": [
    "myDict = {'(': ')', '{': '}', '[': ']'}\n",
    "\n",
    "\n",
    "stack = []\n",
    "\n",
    "for a in s:\n",
    "    if a in myDict:\n",
    "        stack.append(a)\n",
    "\n",
    "\n",
    "stack.pop()\n",
    "\n",
    "\n",
    "\n",
    "maps = [1]\n",
    "\n",
    "maps[-1]"
   ]
  },
  {
   "cell_type": "markdown",
   "metadata": {},
   "source": [
    "Implement Queue using Stacks: using 2 arrays can help you put stuff in, and than using pop put it into the other array in opposite order, similar to a stack."
   ]
  },
  {
   "cell_type": "code",
   "execution_count": 14,
   "metadata": {},
   "outputs": [
    {
     "data": {
      "text/plain": [
       "[0]"
      ]
     },
     "execution_count": 14,
     "metadata": {},
     "output_type": "execute_result"
    }
   ],
   "source": [
    "class MyQueue:\n",
    "\n",
    "    def __init__(self):\n",
    "        self.stackOne = []\n",
    "        self.stackTwo = []\n",
    "\n",
    "    def push(self, x: int) -> None:\n",
    "        self.stackOne.append(x)        \n",
    "\n",
    "    def pop(self) -> int:\n",
    "        self.peek()\n",
    "        return self.stackTwo.pop()\n",
    "\n",
    "        \n",
    "\n",
    "    def peek(self) -> int:\n",
    "        if not self.stackTwo:\n",
    "            while self.stackOne:\n",
    "                self.stackTwo.append(self.stackOne.pop())\n",
    "        return self.stackTwo[-1]\n",
    "\n",
    "    def empty(self) -> bool:\n",
    "        return not self.stackOne and not self.stackTwo\n",
    "        \n",
    "\n",
    "\n",
    "\n",
    "newList = [0]\n",
    "\n",
    "newList\n",
    "\n",
    "\n"
   ]
  },
  {
   "cell_type": "markdown",
   "metadata": {},
   "source": [
    "Flood Fill: "
   ]
  },
  {
   "cell_type": "code",
   "execution_count": null,
   "metadata": {},
   "outputs": [],
   "source": []
  },
  {
   "cell_type": "markdown",
   "metadata": {},
   "source": []
  }
 ],
 "metadata": {
  "kernelspec": {
   "display_name": "Python 3.8.5 ('base')",
   "language": "python",
   "name": "python3"
  },
  "language_info": {
   "codemirror_mode": {
    "name": "ipython",
    "version": 3
   },
   "file_extension": ".py",
   "mimetype": "text/x-python",
   "name": "python",
   "nbconvert_exporter": "python",
   "pygments_lexer": "ipython3",
   "version": "3.8.5"
  },
  "orig_nbformat": 4,
  "vscode": {
   "interpreter": {
    "hash": "56db2256fb2eec42b2e8ebbbcfed35d3ab5fa27a52f6623c2593ea67ae53ceea"
   }
  }
 },
 "nbformat": 4,
 "nbformat_minor": 2
}
