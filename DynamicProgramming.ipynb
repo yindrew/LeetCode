{
 "cells": [
  {
   "cell_type": "markdown",
   "metadata": {},
   "source": [
    "### Maximum Subarray\n",
    "Kadane's alg to find the longest subarray with largest sum"
   ]
  },
  {
   "cell_type": "code",
   "execution_count": 3,
   "metadata": {},
   "outputs": [
    {
     "data": {
      "text/plain": [
       "6"
      ]
     },
     "execution_count": 3,
     "metadata": {},
     "output_type": "execute_result"
    }
   ],
   "source": [
    "def maxSubArray(nums):\n",
    "    curr, maximum = 0, nums[0]\n",
    "\n",
    "    for a in nums:\n",
    "        curr = max(a, curr + a) \n",
    "        maximum = max(maximum, curr)\n",
    "    return maximum\n",
    "\n",
    "nums = [-2,1,-3,4,-1,2,1,-5,4]\n",
    "maxSubArray(nums)\n"
   ]
  },
  {
   "cell_type": "markdown",
   "metadata": {},
   "source": [
    "### Climbing Stairs\n",
    "pattern is 1-2-3-5-8. Follows the pattern of f(n) = f(n-1) + f(n-2) "
   ]
  },
  {
   "cell_type": "code",
   "execution_count": 1,
   "metadata": {},
   "outputs": [
    {
     "data": {
      "text/plain": [
       "8"
      ]
     },
     "execution_count": 1,
     "metadata": {},
     "output_type": "execute_result"
    }
   ],
   "source": [
    "def climb(n):\n",
    "    if(n == 1):\n",
    "        return 1\n",
    "    elif(n == 2):\n",
    "        return 2\n",
    "    else:\n",
    "        return climb(n-1) + climb(n-2)\n",
    "\n",
    "def climb2(n):\n",
    "    a = b = 1\n",
    "    for _ in range(n):\n",
    "        a, b = b, a + b\n",
    "    return a\n",
    "    \n",
    "n = 5\n",
    "climb(n)\n",
    "\n"
   ]
  },
  {
   "cell_type": "markdown",
   "metadata": {},
   "source": [
    "### Coin Change\n",
    "do DP[0] ... DP[n] which each value being the lowest number of coins neccessary. bottom up approach"
   ]
  },
  {
   "cell_type": "code",
   "execution_count": 6,
   "metadata": {},
   "outputs": [
    {
     "data": {
      "text/plain": [
       "2"
      ]
     },
     "execution_count": 6,
     "metadata": {},
     "output_type": "execute_result"
    }
   ],
   "source": [
    "def coinChange(coins, amount):\n",
    "    dp = [amount + 1] * (amount+1)\n",
    "    dp[0] = 0\n",
    "\n",
    "    for i in range(1, amount + 1):\n",
    "        for x in coins:\n",
    "            if i - x >= 0:\n",
    "                dp[i] = min(dp[i], 1 + dp[i-x])\n",
    "    \n",
    "    if dp[amount] == amount + 1:\n",
    "        return -1\n",
    "    else:\n",
    "        return dp[amount]\n",
    "    \n",
    "\n",
    "\n",
    "\n",
    "coins = [1, 3, 4, 5]\n",
    "amount = 7\n",
    "coinChange(coins, amount)"
   ]
  },
  {
   "cell_type": "markdown",
   "metadata": {},
   "source": [
    "### Partition Equal Subset Sum\n",
    "find all the permutations until you reach the target or dont. using a set to constantly add in a new value to check"
   ]
  },
  {
   "cell_type": "code",
   "execution_count": 37,
   "metadata": {},
   "outputs": [
    {
     "data": {
      "text/plain": [
       "False"
      ]
     },
     "execution_count": 37,
     "metadata": {},
     "output_type": "execute_result"
    }
   ],
   "source": [
    "\n",
    "\n",
    "from sqlalchemy import true\n",
    "\n",
    "\n",
    "def canPartition(nums):\n",
    "    target = sum(nums) / 2\n",
    "    if target % 2 < 1:\n",
    "        return False\n",
    "    \n",
    "    dp = set()\n",
    "    dp.add(0)\n",
    "    tempset = set()\n",
    "    for x in nums:\n",
    "        temp = set()\n",
    "        for y in dp:\n",
    "            if(x + y == target):\n",
    "                return True\n",
    "            temp.add(x + y)\n",
    "            temp.add(y)\n",
    "        dp = temp\n",
    "    \n",
    "    return False\n",
    "\n",
    "            \n",
    "\n",
    "\n",
    "    \n",
    "\n",
    "        \n",
    "    \n",
    "\n",
    "\n",
    "\n",
    "\n",
    "canPartition([1, 1, 1, 1])"
   ]
  },
  {
   "cell_type": "markdown",
   "metadata": {},
   "source": [
    "### Unique Paths\n",
    "use reverse engineering and finding the paths that are near the exit and see how many paths each individual square is. working backwards "
   ]
  },
  {
   "cell_type": "code",
   "execution_count": 52,
   "metadata": {},
   "outputs": [
    {
     "data": {
      "text/plain": [
       "28"
      ]
     },
     "execution_count": 52,
     "metadata": {},
     "output_type": "execute_result"
    }
   ],
   "source": [
    "def uniquePaths(m, n):\n",
    "    row = [1] * m\n",
    "    for i in range(n - 1):\n",
    "        newRow = [1] * m\n",
    "        for y in range(m - 2, -1, -1):\n",
    "            newRow[y] = newRow[y+1] + row[y]\n",
    "        row = newRow\n",
    "    return row[0]\n",
    "\n",
    "\n",
    "\n",
    "            \n",
    "\n",
    "\n",
    "\n",
    "\n",
    "uniquePaths(3, 7)\n",
    "\n",
    "\n"
   ]
  },
  {
   "cell_type": "markdown",
   "metadata": {},
   "source": [
    "### NEWEST"
   ]
  },
  {
   "cell_type": "code",
   "execution_count": 49,
   "metadata": {},
   "outputs": [
    {
     "name": "stdout",
     "output_type": "stream",
     "text": [
      "0\n",
      "1\n",
      "2\n"
     ]
    }
   ],
   "source": [
    "for j in range(3):\n",
    "    print(j)\n",
    "\n"
   ]
  },
  {
   "cell_type": "code",
   "execution_count": null,
   "metadata": {},
   "outputs": [],
   "source": []
  }
 ],
 "metadata": {
  "kernelspec": {
   "display_name": "Python 3.8.5 ('base')",
   "language": "python",
   "name": "python3"
  },
  "language_info": {
   "codemirror_mode": {
    "name": "ipython",
    "version": 3
   },
   "file_extension": ".py",
   "mimetype": "text/x-python",
   "name": "python",
   "nbconvert_exporter": "python",
   "pygments_lexer": "ipython3",
   "version": "3.8.5"
  },
  "orig_nbformat": 4,
  "vscode": {
   "interpreter": {
    "hash": "56db2256fb2eec42b2e8ebbbcfed35d3ab5fa27a52f6623c2593ea67ae53ceea"
   }
  }
 },
 "nbformat": 4,
 "nbformat_minor": 2
}
