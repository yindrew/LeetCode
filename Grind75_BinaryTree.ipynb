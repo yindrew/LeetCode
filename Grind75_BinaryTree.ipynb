{
 "cells": [
  {
   "cell_type": "code",
   "execution_count": 2,
   "metadata": {},
   "outputs": [],
   "source": [
    "class TreeNode(object):\n",
    "     def __init__(self, val=0, left=None, right=None):\n",
    "         self.val = val\n",
    "         self.left = left\n",
    "         self.right = right"
   ]
  },
  {
   "cell_type": "markdown",
   "metadata": {},
   "source": [
    "### Invert Binary Tree\n",
    "recursive function that swaps each left and right root recursively until it runs out of nodes."
   ]
  },
  {
   "cell_type": "code",
   "execution_count": 3,
   "metadata": {},
   "outputs": [
    {
     "data": {
      "text/plain": [
       "2"
      ]
     },
     "execution_count": 3,
     "metadata": {},
     "output_type": "execute_result"
    }
   ],
   "source": [
    "def invertTree(root):\n",
    "    if(root == None):\n",
    "        return root\n",
    "        \n",
    "    else:\n",
    "        root.left, root.right = invertTree(root.right), invertTree(root.left)\n",
    "    return root\n",
    "\n",
    "root = TreeNode(0, TreeNode(1), TreeNode(2))\n",
    "invertTree(root)\n",
    "root.left.val\n"
   ]
  },
  {
   "cell_type": "markdown",
   "metadata": {},
   "source": [
    "### Balanced Binary Tree\n",
    "Recursive function which starts bottom up and checks if both the right and left Tree node is balanced and than returning the height \n",
    "of the node through each case"
   ]
  },
  {
   "cell_type": "code",
   "execution_count": 4,
   "metadata": {},
   "outputs": [
    {
     "data": {
      "text/plain": [
       "True"
      ]
     },
     "execution_count": 4,
     "metadata": {},
     "output_type": "execute_result"
    }
   ],
   "source": [
    "def isBalanced(root):\n",
    "    def bal(root):\n",
    "        if (not root):\n",
    "            return 0\n",
    "        else:\n",
    "            left = bal(root.left)\n",
    "            if(left == -1):\n",
    "                return -1\n",
    "            right = bal(root.right)\n",
    "            if(right == -1):\n",
    "                return -1\n",
    "\n",
    "            if (abs(left - right) > 1):\n",
    "                return -1\n",
    "            return 1 + max(left, right)\n",
    "    return bal(root) != -1\n",
    "\n",
    "rootBal = TreeNode(0, TreeNode(3), TreeNode(2))\n",
    "rootUnbal = TreeNode(0, TreeNode(1, TreeNode(3)), TreeNode(2, None, TreeNode(4, TreeNode(5, TreeNode(6)))))\n",
    "isBalanced(rootBal)"
   ]
  },
  {
   "cell_type": "markdown",
   "metadata": {},
   "source": [
    "### Diameter of Binary Tree\n",
    "Recursive call where we keep a global variable to track the longest diameter and iterate inside by returning height and calculating the longest diameter at each individual node"
   ]
  },
  {
   "cell_type": "code",
   "execution_count": 29,
   "metadata": {},
   "outputs": [
    {
     "data": {
      "text/plain": [
       "3"
      ]
     },
     "execution_count": 29,
     "metadata": {},
     "output_type": "execute_result"
    }
   ],
   "source": [
    "def diameterOfBinaryTree(root):\n",
    "    diam = 0\n",
    "    def longest(root):\n",
    "        nonlocal diam\n",
    "        if(not root):\n",
    "            return 0\n",
    "        else:\n",
    "            left = longest(root.left)\n",
    "            right = longest(root.right)\n",
    "            diam = max(diam, left + right)\n",
    "\n",
    "            return 1 + max(left, right)\n",
    "    longest(root)\n",
    "    return diam\n",
    "\n",
    "root = TreeNode(0)\n",
    "root.left = TreeNode(-1)\n",
    "root.right = TreeNode(5)\n",
    "root.right.left = TreeNode(3)\n",
    "\n",
    "diameterOfBinaryTree(root)"
   ]
  },
  {
   "cell_type": "markdown",
   "metadata": {},
   "source": [
    "### Maximum Depth of Binary Tree\n",
    "Recursive search which finds the longest path between the left and right side."
   ]
  },
  {
   "cell_type": "code",
   "execution_count": 13,
   "metadata": {},
   "outputs": [
    {
     "data": {
      "text/plain": [
       "3"
      ]
     },
     "execution_count": 13,
     "metadata": {},
     "output_type": "execute_result"
    }
   ],
   "source": [
    "def maxDepth(root):\n",
    "    if(not root):\n",
    "        return 0\n",
    "    else:\n",
    "        left = maxDepth(root.left)\n",
    "        right = maxDepth(root.right)\n",
    "        \n",
    "        return 1 + max(left, right)\n",
    "\n",
    "root = TreeNode(0, TreeNode(3), TreeNode(2, TreeNode(1)))\n",
    "maxDepth(root)\n",
    "\n"
   ]
  },
  {
   "cell_type": "markdown",
   "metadata": {},
   "source": [
    "### new"
   ]
  },
  {
   "cell_type": "code",
   "execution_count": null,
   "metadata": {},
   "outputs": [],
   "source": []
  }
 ],
 "metadata": {
  "kernelspec": {
   "display_name": "Python 3.8.5 ('base')",
   "language": "python",
   "name": "python3"
  },
  "language_info": {
   "codemirror_mode": {
    "name": "ipython",
    "version": 3
   },
   "file_extension": ".py",
   "mimetype": "text/x-python",
   "name": "python",
   "nbconvert_exporter": "python",
   "pygments_lexer": "ipython3",
   "version": "3.8.5"
  },
  "orig_nbformat": 4,
  "vscode": {
   "interpreter": {
    "hash": "56db2256fb2eec42b2e8ebbbcfed35d3ab5fa27a52f6623c2593ea67ae53ceea"
   }
  }
 },
 "nbformat": 4,
 "nbformat_minor": 2
}
