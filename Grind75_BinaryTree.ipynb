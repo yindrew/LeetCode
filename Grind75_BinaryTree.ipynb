{
 "cells": [
  {
   "cell_type": "code",
   "execution_count": 1,
   "metadata": {},
   "outputs": [],
   "source": [
    "class TreeNode(object):\n",
    "     def __init__(self, val=0, left=None, right=None):\n",
    "         self.val = val\n",
    "         self.left = left\n",
    "         self.right = right"
   ]
  },
  {
   "cell_type": "markdown",
   "metadata": {},
   "source": [
    "Invert Binary Tree: recursive function that swaps each left and right root recursively until it runs out of nodes."
   ]
  },
  {
   "cell_type": "code",
   "execution_count": 2,
   "metadata": {},
   "outputs": [
    {
     "ename": "NameError",
     "evalue": "name 'TreeNode' is not defined",
     "output_type": "error",
     "traceback": [
      "\u001b[0;31m---------------------------------------------------------------------------\u001b[0m",
      "\u001b[0;31mNameError\u001b[0m                                 Traceback (most recent call last)",
      "\u001b[1;32m/Users/yindrew/Downloads/Personal/LeetCode/Grind75_BinaryTree.ipynb Cell 3'\u001b[0m in \u001b[0;36m<cell line: 1>\u001b[0;34m()\u001b[0m\n\u001b[0;32m----> <a href='vscode-notebook-cell:/Users/yindrew/Downloads/Personal/LeetCode/Grind75_BinaryTree.ipynb#ch0000002?line=0'>1</a>\u001b[0m root \u001b[39m=\u001b[39m TreeNode(\u001b[39m0\u001b[39m, TreeNode(\u001b[39m1\u001b[39m), TreeNode(\u001b[39m2\u001b[39m))\n\u001b[1;32m      <a href='vscode-notebook-cell:/Users/yindrew/Downloads/Personal/LeetCode/Grind75_BinaryTree.ipynb#ch0000002?line=2'>3</a>\u001b[0m \u001b[39mdef\u001b[39;00m \u001b[39minvertTree\u001b[39m(root):\n\u001b[1;32m      <a href='vscode-notebook-cell:/Users/yindrew/Downloads/Personal/LeetCode/Grind75_BinaryTree.ipynb#ch0000002?line=3'>4</a>\u001b[0m     \u001b[39mif\u001b[39;00m(root \u001b[39m==\u001b[39m \u001b[39mNone\u001b[39;00m):\n",
      "\u001b[0;31mNameError\u001b[0m: name 'TreeNode' is not defined"
     ]
    }
   ],
   "source": [
    "root = TreeNode(0, TreeNode(1), TreeNode(2))\n",
    "\n",
    "def invertTree(root):\n",
    "    if(root == None):\n",
    "        return root\n",
    "        \n",
    "    else:\n",
    "        root.left, root.right = invertTree(root.right), invertTree(root.left)\n",
    "    return root\n",
    "\n",
    "invertTree(root).left.val\n"
   ]
  },
  {
   "cell_type": "markdown",
   "metadata": {},
   "source": [
    "Balanced Binary Tree: Recursive function which starts bottom up and checks if both the right and left Tree node is balanced and than returning the height \n",
    "of the node through each case"
   ]
  },
  {
   "cell_type": "code",
   "execution_count": 42,
   "metadata": {},
   "outputs": [
    {
     "data": {
      "text/plain": [
       "True"
      ]
     },
     "execution_count": 42,
     "metadata": {},
     "output_type": "execute_result"
    }
   ],
   "source": [
    "rootBal = TreeNode(0, TreeNode(3), TreeNode(2))\n",
    "rootUnbal = TreeNode(0, TreeNode(1, TreeNode(3)), TreeNode(2, None, TreeNode(4, TreeNode(5, TreeNode(6)))))\n",
    "\n",
    "\n",
    "def isBalanced(root):\n",
    "    def bal(root):\n",
    "        if (not root):\n",
    "            return 0\n",
    "        else:\n",
    "            left = bal(root.left)\n",
    "            if(left == -1):\n",
    "                return -1\n",
    "            right = bal(root.right)\n",
    "            if(right == -1):\n",
    "                return -1\n",
    "\n",
    "            if (abs(left - right) > 1):\n",
    "                return -1\n",
    "            return 1 + max(left, right)\n",
    "    return bal(root) != -1\n",
    "\n",
    "\n",
    "\n",
    "isBalanced(rootBal)"
   ]
  },
  {
   "cell_type": "markdown",
   "metadata": {},
   "source": [
    "Diameter of Binary Tree: Recursive call where we keep a global variable to track the longest diameter and iterate inside by returning height and calculating the longest diameter at each individual node"
   ]
  },
  {
   "cell_type": "code",
   "execution_count": 48,
   "metadata": {},
   "outputs": [
    {
     "data": {
      "text/plain": [
       "3"
      ]
     },
     "execution_count": 48,
     "metadata": {},
     "output_type": "execute_result"
    }
   ],
   "source": [
    "root = TreeNode(0, TreeNode(3), TreeNode(2, TreeNode(1)))\n",
    "\n",
    "ans = 10\n",
    "def diameterOfBinaryTree(root):\n",
    "    return 0\n",
    "\n",
    "\n",
    "def longest(root):\n",
    "    diam = 0\n",
    "    if(not root):\n",
    "        return 0\n",
    "    else:\n",
    "        left = longest(root.left)\n",
    "        right = longest(root.right)\n",
    "        diam = max(left + right, diam)\n",
    "\n",
    "\n",
    "        return 1 + max(left, right)\n",
    "\n",
    "longest(root)\n",
    "\n",
    "    \n",
    "\n"
   ]
  },
  {
   "cell_type": "markdown",
   "metadata": {},
   "source": [
    "Maximum Depth of Binary Tree: Recursive search which finds the longest path between the left and right side."
   ]
  },
  {
   "cell_type": "code",
   "execution_count": 65,
   "metadata": {},
   "outputs": [
    {
     "data": {
      "text/plain": [
       "3"
      ]
     },
     "execution_count": 65,
     "metadata": {},
     "output_type": "execute_result"
    }
   ],
   "source": [
    "root = TreeNode(0, TreeNode(3), TreeNode(2, TreeNode(1)))\n",
    "\n",
    "def maxDepth(self, root):\n",
    "    if(not root):\n",
    "        return 0\n",
    "    else:\n",
    "        left = self.maxDepth(root.left)\n",
    "        right = self.maxDepth(root.right)\n",
    "        \n",
    "        return 1 + max(left, right)\n",
    "\n",
    "\n",
    "\n"
   ]
  }
 ],
 "metadata": {
  "kernelspec": {
   "display_name": "Python 3.8.9 64-bit",
   "language": "python",
   "name": "python3"
  },
  "language_info": {
   "codemirror_mode": {
    "name": "ipython",
    "version": 3
   },
   "file_extension": ".py",
   "mimetype": "text/x-python",
   "name": "python",
   "nbconvert_exporter": "python",
   "pygments_lexer": "ipython3",
   "version": "3.8.9"
  },
  "orig_nbformat": 4,
  "vscode": {
   "interpreter": {
    "hash": "31f2aee4e71d21fbe5cf8b01ff0e069b9275f58929596ceb00d14d90e3e16cd6"
   }
  }
 },
 "nbformat": 4,
 "nbformat_minor": 2
}
