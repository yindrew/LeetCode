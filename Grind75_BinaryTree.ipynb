{
 "cells": [
  {
   "cell_type": "code",
   "execution_count": 4,
   "metadata": {},
   "outputs": [],
   "source": [
    "class TreeNode(object):\n",
    "     def __init__(self, val=0, left=None, right=None):\n",
    "         self.val = val\n",
    "         self.left = left\n",
    "         self.right = right"
   ]
  },
  {
   "cell_type": "markdown",
   "metadata": {},
   "source": [
    "### Invert Binary Tree\n",
    "recursive function that swaps each left and right root recursively until it runs out of nodes."
   ]
  },
  {
   "cell_type": "code",
   "execution_count": 47,
   "metadata": {},
   "outputs": [
    {
     "data": {
      "text/plain": [
       "2"
      ]
     },
     "execution_count": 47,
     "metadata": {},
     "output_type": "execute_result"
    }
   ],
   "source": [
    "def invertTree(root):\n",
    "    if(root == None):\n",
    "        return root\n",
    "        \n",
    "    else:\n",
    "        root.left, root.right = invertTree(root.right), invertTree(root.left)\n",
    "    return root\n",
    "\n",
    "root = TreeNode(0, TreeNode(1), TreeNode(2))\n",
    "invertTree(root)\n",
    "root.left.val\n"
   ]
  },
  {
   "cell_type": "markdown",
   "metadata": {},
   "source": [
    "### Balanced Binary Tree\n",
    "Recursive function which starts bottom up and checks if both the right and left Tree node is balanced and than returning the height \n",
    "of the node through each case"
   ]
  },
  {
   "cell_type": "code",
   "execution_count": 48,
   "metadata": {},
   "outputs": [
    {
     "data": {
      "text/plain": [
       "True"
      ]
     },
     "execution_count": 48,
     "metadata": {},
     "output_type": "execute_result"
    }
   ],
   "source": [
    "def isBalanced(root):\n",
    "    def bal(root):\n",
    "        if (not root):\n",
    "            return 0\n",
    "        else:\n",
    "            left = bal(root.left)\n",
    "            if(left == -1):\n",
    "                return -1\n",
    "            right = bal(root.right)\n",
    "            if(right == -1):\n",
    "                return -1\n",
    "\n",
    "            if (abs(left - right) > 1):\n",
    "                return -1\n",
    "            return 1 + max(left, right)\n",
    "    return bal(root) != -1\n",
    "\n",
    "rootBal = TreeNode(0, TreeNode(3), TreeNode(2))\n",
    "rootUnbal = TreeNode(0, TreeNode(1, TreeNode(3)), TreeNode(2, None, TreeNode(4, TreeNode(5, TreeNode(6)))))\n",
    "isBalanced(rootBal)"
   ]
  },
  {
   "cell_type": "markdown",
   "metadata": {},
   "source": [
    "### Diameter of Binary Tree\n",
    "Recursive call where we keep a global variable to track the longest diameter and iterate inside by returning height and calculating the longest diameter at each individual node"
   ]
  },
  {
   "cell_type": "code",
   "execution_count": 49,
   "metadata": {},
   "outputs": [
    {
     "data": {
      "text/plain": [
       "3"
      ]
     },
     "execution_count": 49,
     "metadata": {},
     "output_type": "execute_result"
    }
   ],
   "source": [
    "def diameterOfBinaryTree(root):\n",
    "    diam = 0\n",
    "    def longest(root):\n",
    "        nonlocal diam\n",
    "        if(not root):\n",
    "            return 0\n",
    "        else:\n",
    "            left = longest(root.left)\n",
    "            right = longest(root.right)\n",
    "            diam = max(diam, left + right)\n",
    "\n",
    "            return 1 + max(left, right)\n",
    "    longest(root)\n",
    "    return diam\n",
    "\n",
    "root = TreeNode(0)\n",
    "root.left = TreeNode(-1)\n",
    "root.right = TreeNode(5)\n",
    "root.right.left = TreeNode(3)\n",
    "\n",
    "diameterOfBinaryTree(root)"
   ]
  },
  {
   "cell_type": "markdown",
   "metadata": {},
   "source": [
    "### Maximum Depth of Binary Tree\n",
    "Recursive search which finds the longest path between the left and right side."
   ]
  },
  {
   "cell_type": "code",
   "execution_count": 50,
   "metadata": {},
   "outputs": [
    {
     "data": {
      "text/plain": [
       "3"
      ]
     },
     "execution_count": 50,
     "metadata": {},
     "output_type": "execute_result"
    }
   ],
   "source": [
    "def maxDepth(root):\n",
    "    if(not root):\n",
    "        return 0\n",
    "    else:\n",
    "        left = maxDepth(root.left)\n",
    "        right = maxDepth(root.right)\n",
    "        \n",
    "        return 1 + max(left, right)\n",
    "\n",
    "root = TreeNode(0, TreeNode(3), TreeNode(2, TreeNode(1)))\n",
    "maxDepth(root)\n",
    "\n"
   ]
  },
  {
   "cell_type": "markdown",
   "metadata": {},
   "source": [
    "### Binary Tree Level Order Traversal\n",
    "use breadth first search to add values to \n"
   ]
  },
  {
   "cell_type": "code",
   "execution_count": 51,
   "metadata": {},
   "outputs": [
    {
     "data": {
      "text/plain": [
       "[[3], [9, 9], [15, 7]]"
      ]
     },
     "execution_count": 51,
     "metadata": {},
     "output_type": "execute_result"
    }
   ],
   "source": [
    "def levelOrder(root):\n",
    "    sol = []\n",
    "    list = [root]\n",
    "\n",
    "    while list:\n",
    "        level = []\n",
    "        length = len(list)\n",
    "        for a in range(length):\n",
    "            node = list.pop(0)\n",
    "            if node:\n",
    "                level.append(node.val)\n",
    "                list.append(node.left)\n",
    "                list.append(node.right)\n",
    "        if level:\n",
    "            sol.append(level)\n",
    "    return sol\n",
    "\n",
    "root = TreeNode(3)\n",
    "root.left = TreeNode(9)\n",
    "root.right = TreeNode(9)\n",
    "root.right.left = TreeNode(15)\n",
    "root.right.right = TreeNode(7)\n",
    "levelOrder(root)\n"
   ]
  },
  {
   "cell_type": "markdown",
   "metadata": {},
   "source": [
    "### Lowest Common Ancestor\n",
    "use a recursive call that returns the node if it is the node and a way to check if both sides are equal to the node"
   ]
  },
  {
   "cell_type": "code",
   "execution_count": 52,
   "metadata": {},
   "outputs": [
    {
     "data": {
      "text/plain": [
       "3"
      ]
     },
     "execution_count": 52,
     "metadata": {},
     "output_type": "execute_result"
    }
   ],
   "source": [
    "def lowestCommonAncestor(root, p, q):\n",
    "    if not root:\n",
    "        return None\n",
    "    if root == p or root == q:\n",
    "        return root\n",
    "    left = lowestCommonAncestor(root.left, p, q)\n",
    "    right = lowestCommonAncestor(root.right, p, q)\n",
    "\n",
    "    if left and right:\n",
    "        return root\n",
    "    elif not left:\n",
    "        return right\n",
    "    else:\n",
    "        return left\n",
    "\n",
    "\n",
    "root = TreeNode(3)\n",
    "root.left = TreeNode(9)\n",
    "root.right = TreeNode(7)\n",
    "root.right.left = TreeNode(15)\n",
    "root.right.right = TreeNode(7)\n",
    "p = root.left\n",
    "q = root.right\n",
    "\n",
    "lowestCommonAncestor(root, p, q).val\n"
   ]
  },
  {
   "cell_type": "markdown",
   "metadata": {},
   "source": [
    "### Binary Tree Right Side View\n",
    "Breadth first search that takes goes level by level taking only the right side value"
   ]
  },
  {
   "cell_type": "code",
   "execution_count": 55,
   "metadata": {},
   "outputs": [
    {
     "data": {
      "text/plain": [
       "[3, 7, 8]"
      ]
     },
     "execution_count": 55,
     "metadata": {},
     "output_type": "execute_result"
    }
   ],
   "source": [
    "def rightSideView(root):\n",
    "    sol = []\n",
    "    list = [root]\n",
    "    while list:\n",
    "        val = None\n",
    "        length = len(list)\n",
    "        for a in range(length):\n",
    "            node = list.pop(0)\n",
    "            if node:\n",
    "                val = node.val\n",
    "                list.append(node.left)\n",
    "                list.append(node.right)\n",
    "        if val:\n",
    "            sol.append(val)\n",
    "    return sol\n",
    "\n",
    "\n",
    "\n",
    "root = TreeNode(3)\n",
    "root.left = TreeNode(9)\n",
    "root.right = TreeNode(7)\n",
    "root.right.left = TreeNode(15)\n",
    "root.right.right = TreeNode(8)\n",
    "\n",
    "rightSideView(root)\n"
   ]
  },
  {
   "cell_type": "markdown",
   "metadata": {},
   "source": [
    "### Construct Binary Tree from Preorder and Inorder Traversal\n"
   ]
  },
  {
   "cell_type": "code",
   "execution_count": 10,
   "metadata": {},
   "outputs": [
    {
     "data": {
      "text/plain": [
       "9"
      ]
     },
     "execution_count": 10,
     "metadata": {},
     "output_type": "execute_result"
    }
   ],
   "source": [
    "def buildTree(preorder, inorder):\n",
    "    if inorder:\n",
    "        index = inorder.index(preorder.pop(0))\n",
    "        root = TreeNode(inorder[index])\n",
    "        root.left = buildTree(preorder, inorder[:index])\n",
    "        root.right = buildTree(preorder, inorder[index+1:])\n",
    "        return root\n",
    "\n",
    "        \n",
    "\n",
    "\n",
    "\n",
    "preorder = [3,9,20,15,7]\n",
    "inorder = [9,3,15,20,7]\n",
    "\n",
    "\n",
    "\n",
    "buildTree(preorder, inorder).left.val"
   ]
  },
  {
   "cell_type": "markdown",
   "metadata": {},
   "source": [
    "### new"
   ]
  },
  {
   "cell_type": "code",
   "execution_count": 43,
   "metadata": {},
   "outputs": [
    {
     "data": {
      "text/plain": [
       "3"
      ]
     },
     "execution_count": 43,
     "metadata": {},
     "output_type": "execute_result"
    }
   ],
   "source": [
    "preorder = [3,9,15, 7, 20]\n",
    "inorder = [15, 9, 7, 3, 20]\n",
    "\n",
    "root = TreeNode(preorder.pop(0))\n",
    "\n",
    "for x in range(len(inorder)):\n",
    "    if inorder[x] == root.val:\n",
    "        pre = inorder[:x]\n",
    "        break\n",
    "\n",
    "\n",
    "subroot = TreeNode(preorder.pop(0))\n",
    "\n",
    "for a in range(len(pre)):\n",
    "    if pre[a] == subroot.val:\n",
    "        newPre = pre[:a]\n",
    "        break\n",
    "\n",
    "\n",
    "newSubroot = TreeNode(preorder.pop(0))\n",
    "\n",
    "\n",
    "\n",
    "for a in range(len(newPre)):\n",
    "    if(pre[a] == newSubroot.val):\n",
    "        newnewPre = pre[:a]\n",
    "\n",
    "\n"
   ]
  },
  {
   "cell_type": "code",
   "execution_count": 5,
   "metadata": {},
   "outputs": [],
   "source": [
    "preorder = [3,9,20,15,7]\n",
    "inorder = [9,3,15,20,7]\n",
    "lIndex = 0\n",
    "rIndex = len(inorder)\n",
    "\n",
    "\n",
    "\n",
    "\n",
    "\n",
    "inorder.index(15)\n",
    "\n",
    "\n",
    "\n",
    "\n",
    "\n",
    "\n",
    "\n",
    "root = TreeNode(preorder.pop(0)) # root is 3\n",
    "\n",
    "for x in range(len(inorder)):\n",
    "    if inorder[x] == root.val:\n",
    "        index = x\n",
    "\n",
    "L = inorder[lIndex:index]\n",
    "R = inorder[index + 1: rIndex]\n",
    "    \n",
    "\n",
    "L\n",
    "R\n",
    "\n",
    "newRoot = TreeNode(preorder.pop(0)) # 9\n",
    "\n",
    "if newRoot.val in L:\n",
    "    root.left = newRoot\n",
    "    for x in range(len(L)):\n",
    "        if L[x] == newRoot.val:\n",
    "            index = x\n",
    "\n",
    "\n",
    "newnewRoot = TreeNode(preorder.pop(0)) # 20\n"
   ]
  },
  {
   "cell_type": "code",
   "execution_count": 2,
   "metadata": {},
   "outputs": [
    {
     "name": "stdout",
     "output_type": "stream",
     "text": [
      "h\n"
     ]
    }
   ],
   "source": [
    "l = [1]\n",
    "\n",
    "if l:\n",
    "    print(\"h\")\n"
   ]
  },
  {
   "cell_type": "code",
   "execution_count": 6,
   "metadata": {},
   "outputs": [
    {
     "data": {
      "text/plain": [
       "2"
      ]
     },
     "execution_count": 6,
     "metadata": {},
     "output_type": "execute_result"
    }
   ],
   "source": [
    "inorder = [9,3,15,20,7]\n",
    "\n",
    "inorder.index(15)"
   ]
  },
  {
   "cell_type": "code",
   "execution_count": null,
   "metadata": {},
   "outputs": [],
   "source": []
  }
 ],
 "metadata": {
  "kernelspec": {
   "display_name": "Python 3.8.5 ('base')",
   "language": "python",
   "name": "python3"
  },
  "language_info": {
   "codemirror_mode": {
    "name": "ipython",
    "version": 3
   },
   "file_extension": ".py",
   "mimetype": "text/x-python",
   "name": "python",
   "nbconvert_exporter": "python",
   "pygments_lexer": "ipython3",
   "version": "3.8.5"
  },
  "orig_nbformat": 4,
  "vscode": {
   "interpreter": {
    "hash": "56db2256fb2eec42b2e8ebbbcfed35d3ab5fa27a52f6623c2593ea67ae53ceea"
   }
  }
 },
 "nbformat": 4,
 "nbformat_minor": 2
}
