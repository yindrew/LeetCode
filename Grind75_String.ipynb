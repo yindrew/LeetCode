{
 "cells": [
  {
   "cell_type": "markdown",
   "metadata": {},
   "source": [
    "Valid Palindrone: Convert all words and letters to valid format and have 2 pointers loop thru front front of the word to end of the word"
   ]
  },
  {
   "cell_type": "code",
   "execution_count": 13,
   "metadata": {},
   "outputs": [
    {
     "data": {
      "text/plain": [
       "False"
      ]
     },
     "execution_count": 13,
     "metadata": {},
     "output_type": "execute_result"
    }
   ],
   "source": [
    "s = \"Hello... Owlleh\"\n",
    "\n",
    "def isPalin(s):\n",
    "    s = ''.join(i for i in s if i.isalnum())\n",
    "    s = s.lower()\n",
    "    l, r = 0, len(s) - 1\n",
    "    while(l < r):\n",
    "        if(s[l] != s[r]):\n",
    "            return False\n",
    "        l += 1\n",
    "        r -= 1\n",
    "    return True\n",
    "\n",
    "isPalin(s)\n"
   ]
  },
  {
   "cell_type": "markdown",
   "metadata": {},
   "source": [
    "Valid Anagram: Using dictonary with each letter as a key and the number of times they have been used as the value. Then removing them when checking if its a anagram"
   ]
  },
  {
   "cell_type": "code",
   "execution_count": 20,
   "metadata": {},
   "outputs": [
    {
     "data": {
      "text/plain": [
       "True"
      ]
     },
     "execution_count": 20,
     "metadata": {},
     "output_type": "execute_result"
    }
   ],
   "source": [
    "s, t = \"anagram\", \"nagaram\"\n",
    "def isAnagram(s, t):\n",
    "    newDict = {}\n",
    "    for a in s:\n",
    "        if a in newDict:\n",
    "            newDict[a] += 1\n",
    "        else:\n",
    "            newDict[a] = 1\n",
    "\n",
    "    for x in t:\n",
    "        if x not in newDict:\n",
    "            return False\n",
    "        newDict[x] -= 1\n",
    "    \n",
    "    for a in newDict.values():\n",
    "        if( a != 0):\n",
    "            return False\n",
    "    return True\n",
    "\n",
    "\n",
    "\n",
    "isAnagram(s, t)\n",
    "\n"
   ]
  },
  {
   "cell_type": "markdown",
   "metadata": {},
   "source": [
    "Longest Palindrone: "
   ]
  },
  {
   "cell_type": "code",
   "execution_count": 41,
   "metadata": {},
   "outputs": [
    {
     "name": "stdout",
     "output_type": "stream",
     "text": [
      "7\n"
     ]
    }
   ],
   "source": [
    "s = \"abccccdd\"\n",
    "\n",
    "def LongestPalindrone(s):\n",
    "    newDict, newSum = {}, 0\n",
    "\n",
    "    for x in s:\n",
    "        if x in newDict:\n",
    "            newDict[x] += 1\n",
    "        else:\n",
    "            newDict[x] = 1\n",
    "        \n",
    "    for a in newDict.values():\n",
    "\n",
    "        if ( a % 1 == 0 and newSum % 2 == 0):\n",
    "            newSum += 1\n",
    "\n",
    "        \n",
    "        if (a % 2 == 0 and a > 0) :\n",
    "            newSum += a\n",
    "\n",
    "        if ( a % 1 == 0 and a > 0):\n",
    "            newSum + a - 1\n",
    "        \n",
    "    print (newSum)\n",
    "\n",
    "\n",
    "\n",
    "\n",
    "\n",
    "\n",
    "\n",
    "\n",
    "    \n",
    "    \n",
    "\n",
    "\n",
    "LongestPalindrone(s)\n"
   ]
  }
 ],
 "metadata": {
  "kernelspec": {
   "display_name": "Python 3.8.9 64-bit",
   "language": "python",
   "name": "python3"
  },
  "language_info": {
   "codemirror_mode": {
    "name": "ipython",
    "version": 3
   },
   "file_extension": ".py",
   "mimetype": "text/x-python",
   "name": "python",
   "nbconvert_exporter": "python",
   "pygments_lexer": "ipython3",
   "version": "3.8.9"
  },
  "orig_nbformat": 4,
  "vscode": {
   "interpreter": {
    "hash": "31f2aee4e71d21fbe5cf8b01ff0e069b9275f58929596ceb00d14d90e3e16cd6"
   }
  }
 },
 "nbformat": 4,
 "nbformat_minor": 2
}
