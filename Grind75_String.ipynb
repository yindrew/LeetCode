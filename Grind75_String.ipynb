{
 "cells": [
  {
   "cell_type": "markdown",
   "metadata": {},
   "source": [
    "### Valid Palindrone\n",
    "Convert all words and letters to valid format and have 2 pointers loop thru front front of the word to end of the word"
   ]
  },
  {
   "cell_type": "code",
   "execution_count": 7,
   "metadata": {},
   "outputs": [
    {
     "data": {
      "text/plain": [
       "False"
      ]
     },
     "execution_count": 7,
     "metadata": {},
     "output_type": "execute_result"
    }
   ],
   "source": [
    "def isPalin(s):\n",
    "    s = ''.join(i for i in s if i.isalnum())\n",
    "    s = s.lower()\n",
    "    l, r = 0, len(s) - 1\n",
    "    while(l < r):\n",
    "        if(s[l] != s[r]):\n",
    "            return False\n",
    "        l += 1\n",
    "        r -= 1\n",
    "    return True\n",
    "\n",
    "s = \"Hello... Owlleh\"\n",
    "isPalin(s)\n"
   ]
  },
  {
   "cell_type": "markdown",
   "metadata": {},
   "source": [
    "### Valid Anagram\n",
    "Using dictonary with each letter as a key and the number of times they have been used as the value. Then removing them when checking if its a anagram"
   ]
  },
  {
   "cell_type": "code",
   "execution_count": 5,
   "metadata": {},
   "outputs": [
    {
     "data": {
      "text/plain": [
       "True"
      ]
     },
     "execution_count": 5,
     "metadata": {},
     "output_type": "execute_result"
    }
   ],
   "source": [
    "def isAnagram(s, t):\n",
    "    newDict = {}\n",
    "    for a in s:\n",
    "        if a in newDict:\n",
    "            newDict[a] += 1\n",
    "        else:\n",
    "            newDict[a] = 1\n",
    "\n",
    "    for x in t:\n",
    "        if x not in newDict:\n",
    "            return False\n",
    "        newDict[x] -= 1\n",
    "    \n",
    "    for a in newDict.values():\n",
    "        if( a != 0):\n",
    "            return False\n",
    "    return True\n",
    "    \n",
    "s, t = \"anagram\", \"nagaram\"\n",
    "isAnagram(s, t)"
   ]
  },
  {
   "cell_type": "markdown",
   "metadata": {},
   "source": [
    "### Longest Palindrone\n",
    "Use dictionary to find the number of times each letter is repeated and iterate through it to find odd instances. Palindrome add each copy of even values and 1 off of each copy of odd values. "
   ]
  },
  {
   "cell_type": "code",
   "execution_count": 6,
   "metadata": {},
   "outputs": [
    {
     "data": {
      "text/plain": [
       "7"
      ]
     },
     "execution_count": 6,
     "metadata": {},
     "output_type": "execute_result"
    }
   ],
   "source": [
    "def longestPalindrome(s):\n",
    "    newDict, odd = {}, 0\n",
    "\n",
    "    for a in s:\n",
    "        if(a in newDict):\n",
    "            newDict[a] += 1\n",
    "        else:\n",
    "            newDict[a] = 1\n",
    "    for x in newDict.values():\n",
    "        odd += (x & 1)\n",
    "    return len(s) - odd + bool(odd)\n",
    "    \n",
    "s = \"abccccdd\"\n",
    "longestPalindrome(s)"
   ]
  },
  {
   "cell_type": "markdown",
   "metadata": {},
   "source": [
    "### new"
   ]
  },
  {
   "cell_type": "code",
   "execution_count": null,
   "metadata": {},
   "outputs": [],
   "source": []
  }
 ],
 "metadata": {
  "kernelspec": {
   "display_name": "Python 3.8.5 ('base')",
   "language": "python",
   "name": "python3"
  },
  "language_info": {
   "codemirror_mode": {
    "name": "ipython",
    "version": 3
   },
   "file_extension": ".py",
   "mimetype": "text/x-python",
   "name": "python",
   "nbconvert_exporter": "python",
   "pygments_lexer": "ipython3",
   "version": "3.8.5"
  },
  "orig_nbformat": 4,
  "vscode": {
   "interpreter": {
    "hash": "56db2256fb2eec42b2e8ebbbcfed35d3ab5fa27a52f6623c2593ea67ae53ceea"
   }
  }
 },
 "nbformat": 4,
 "nbformat_minor": 2
}
