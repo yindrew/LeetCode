{
 "cells": [
  {
   "cell_type": "code",
   "execution_count": 14,
   "metadata": {},
   "outputs": [],
   "source": [
    "class ListNode(object):\n",
    "  def __init__(self, val=0, next=None):\n",
    "    self.val = val\n",
    "    self.next = next"
   ]
  },
  {
   "cell_type": "markdown",
   "metadata": {},
   "source": [
    "### Merge Two Sorted Lists\n",
    "Compare each instance between the two lists and add them in until one is finished. Then add the rest to the end of the list."
   ]
  },
  {
   "cell_type": "code",
   "execution_count": 15,
   "metadata": {},
   "outputs": [
    {
     "name": "stdout",
     "output_type": "stream",
     "text": [
      "1\n",
      "1\n",
      "2\n",
      "3\n",
      "4\n",
      "4\n"
     ]
    }
   ],
   "source": [
    "def mergeTwoLists(list1, list2):\n",
    "    solList = cur = ListNode()\n",
    "    while(list1 and list2):\n",
    "        if (list1.val > list2.val):\n",
    "            cur.next = list2\n",
    "            list2 = list2.next\n",
    "        else:\n",
    "            cur.next = list1\n",
    "            list1 = list1.next\n",
    "        cur = cur.next\n",
    "    cur.next = list1 or list2\n",
    "    solList = solList.next\n",
    "    while(solList):\n",
    "        print(solList.val)\n",
    "        solList = solList.next\n",
    "    return solList\n",
    "\n",
    "list1 = ListNode(1, ListNode(2, ListNode(4)))\n",
    "list2 = ListNode(1, ListNode(3, ListNode(4)))\n",
    "mergeTwoLists(list1, list2)"
   ]
  },
  {
   "cell_type": "markdown",
   "metadata": {},
   "source": [
    "### Linked List Cycle\n",
    "using 2 pointers that move at different speeds and see if they ever catch up to each other"
   ]
  },
  {
   "cell_type": "code",
   "execution_count": 16,
   "metadata": {},
   "outputs": [
    {
     "data": {
      "text/plain": [
       "True"
      ]
     },
     "execution_count": 16,
     "metadata": {},
     "output_type": "execute_result"
    }
   ],
   "source": [
    "def hasCycle(head):\n",
    "    slow = fast = head\n",
    "    while(fast and fast.next):\n",
    "        fast = fast.next.next\n",
    "        slow = slow.next\n",
    "        if(fast == slow):\n",
    "            return True\n",
    "    return False\n",
    "\n",
    "head = ListNode(4)\n",
    "head.next = ListNode(5)\n",
    "head.next.next = ListNode(6)\n",
    "head.next.next = head.next\n",
    "hasCycle(head)"
   ]
  },
  {
   "cell_type": "markdown",
   "metadata": {},
   "source": [
    "### Reverse Linked List\n",
    "change the directions of the pointers so they are flipped. 3 pointers. Iterate the head while using a cur and prev pointer to flip directions."
   ]
  },
  {
   "cell_type": "code",
   "execution_count": 17,
   "metadata": {},
   "outputs": [
    {
     "name": "stdout",
     "output_type": "stream",
     "text": [
      "10\n",
      "4\n",
      "5\n",
      "4\n",
      "2\n",
      "1\n"
     ]
    }
   ],
   "source": [
    "def reverseList(head):\n",
    "    prev = None\n",
    "    while(head):\n",
    "        cur = head\n",
    "        head = head.next\n",
    "        cur.next = prev\n",
    "        prev = cur\n",
    "\n",
    "    while(prev):\n",
    "        print(prev.val)\n",
    "        prev = prev.next\n",
    "    return prev\n",
    "\n",
    "list1 = ListNode(1, ListNode(2, ListNode(4, ListNode(5, ListNode(4, ListNode(10))))))\n",
    "reverseList(list1)\n",
    "\n",
    "        \n"
   ]
  },
  {
   "cell_type": "markdown",
   "metadata": {},
   "source": [
    "### Middle of Linked List\n",
    "use 2 pointers going at different speeds to find the middle."
   ]
  },
  {
   "cell_type": "code",
   "execution_count": 18,
   "metadata": {},
   "outputs": [
    {
     "data": {
      "text/plain": [
       "4"
      ]
     },
     "execution_count": 18,
     "metadata": {},
     "output_type": "execute_result"
    }
   ],
   "source": [
    "def middleNode(head):\n",
    "    slow = fast = head\n",
    "    while(fast and fast.next):\n",
    "        slow = slow.next\n",
    "        fast = fast.next.next\n",
    "    return slow\n",
    "\n",
    "list1 = ListNode(1, ListNode(2, ListNode(4, ListNode(5, ListNode(4)))))\n",
    "middleNode(list1).val\n"
   ]
  },
  {
   "cell_type": "markdown",
   "metadata": {},
   "source": [
    "### LRU Cache\n",
    "make a doubly LL and a dict. the value for the dict are the nodes in the doubly LL. Using 2 dummy pointers and the tail and the head to find the LRU and constantly updating the dict and the LL."
   ]
  },
  {
   "cell_type": "code",
   "execution_count": 19,
   "metadata": {},
   "outputs": [],
   "source": [
    "class Node:\n",
    "    def __init__(self, k, v):\n",
    "        self.key = k\n",
    "        self.value = v\n",
    "        self.prev, self.next = None, None\n",
    "\n",
    "\n",
    "class LRUCache(object):\n",
    "\n",
    "    def __init__(self, capacity):\n",
    "        \"\"\"\n",
    "        :type capacity: int\n",
    "        \"\"\"\n",
    "        self.capacity = capacity\n",
    "        self.cache = {}\n",
    "        self.l, self.r = Node(\"y\", 0), Node(\"x\", 0)\n",
    "        self.l.next, self.r.prev = self.r, self.l\n",
    "        \n",
    "    def ins(self, node):\n",
    "        prev, nxt = self.r.prev, self.r\n",
    "        prev.next = nxt.prev = node\n",
    "        node.prev, node.next = prev, nxt\n",
    "    \n",
    "    def rm(self, node):\n",
    "        prev, nxt = node.prev, node.next\n",
    "        prev.next, nxt.prev = nxt, prev\n",
    "    \n",
    "        \n",
    "\n",
    "    def get(self, key):\n",
    "        \"\"\"\n",
    "        :type key: int\n",
    "        :rtype: int\n",
    "        \"\"\"\n",
    "        if key in self.cache:\n",
    "            self.rm(self.cache[key])\n",
    "            self.ins(self.cache[key])\n",
    "            \n",
    "            return self.cache[key].value\n",
    "        return -1\n",
    "        \n",
    "\n",
    "    def put(self, key, value):\n",
    "        \"\"\"\n",
    "        :type key: int\n",
    "        :type value: int\n",
    "        :rtype: None\n",
    "        \"\"\"\n",
    "        if key in self.cache:\n",
    "            self.rm(self.cache[key])\n",
    "        self.cache[key] = Node(key, value)\n",
    "        self.ins(self.cache[key])\n",
    "        \n",
    "        if(self.capacity < len(self.cache)):\n",
    "            LRU = self.l.next\n",
    "            self.rm(LRU)\n",
    "            del self.cache[LRU.key]\n",
    "            \n",
    "        \n",
    "        \n",
    "\n",
    "\n",
    "# Your LRUCache object will be instantiated and called as such:\n",
    "# obj = LRUCache(capacity)\n",
    "# param_1 = obj.get(key)\n",
    "# obj.put(key,value)"
   ]
  },
  {
   "cell_type": "markdown",
   "metadata": {},
   "source": [
    "### NEW"
   ]
  },
  {
   "cell_type": "code",
   "execution_count": null,
   "metadata": {},
   "outputs": [],
   "source": []
  }
 ],
 "metadata": {
  "kernelspec": {
   "display_name": "Python 3.8.5 ('base')",
   "language": "python",
   "name": "python3"
  },
  "language_info": {
   "codemirror_mode": {
    "name": "ipython",
    "version": 3
   },
   "file_extension": ".py",
   "mimetype": "text/x-python",
   "name": "python",
   "nbconvert_exporter": "python",
   "pygments_lexer": "ipython3",
   "version": "3.8.5"
  },
  "orig_nbformat": 4,
  "vscode": {
   "interpreter": {
    "hash": "56db2256fb2eec42b2e8ebbbcfed35d3ab5fa27a52f6623c2593ea67ae53ceea"
   }
  }
 },
 "nbformat": 4,
 "nbformat_minor": 2
}
