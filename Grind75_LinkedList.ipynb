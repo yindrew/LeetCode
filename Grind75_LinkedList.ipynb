{
 "cells": [
  {
   "cell_type": "code",
   "execution_count": 5,
   "metadata": {},
   "outputs": [],
   "source": [
    "class ListNode(object):\n",
    "  def __init__(self, val=0, next=None):\n",
    "    self.val = val\n",
    "    self.next = next"
   ]
  },
  {
   "cell_type": "markdown",
   "metadata": {},
   "source": [
    "Merge Two Sorted Lists: Compare each instance between the two lists and add them in until one is finished. Then add the rest to the end of the list."
   ]
  },
  {
   "cell_type": "code",
   "execution_count": 9,
   "metadata": {},
   "outputs": [
    {
     "name": "stdout",
     "output_type": "stream",
     "text": [
      "1\n",
      "1\n",
      "2\n",
      "3\n",
      "4\n",
      "4\n"
     ]
    }
   ],
   "source": [
    "list1 = ListNode(1, ListNode(2, ListNode(4)))\n",
    "list2 = ListNode(1, ListNode(3, ListNode(4)))\n",
    "\n",
    "\n",
    "def mergeTwoLists(list1, list2):\n",
    "    solList = cur = ListNode()\n",
    "    while(list1 and list2):\n",
    "        if (list1.val > list2.val):\n",
    "            cur.next = list2\n",
    "            list2 = list2.next\n",
    "        else:\n",
    "            cur.next = list1\n",
    "            list1 = list1.next\n",
    "        cur = cur.next\n",
    "    cur.next = list1 or list2\n",
    "    solList = solList.next\n",
    "    while(solList):\n",
    "        print(solList.val)\n",
    "        solList = solList.next\n",
    "    return solList\n",
    "\n",
    "mergeTwoLists(list1, list2)\n",
    "\n",
    "\n"
   ]
  },
  {
   "cell_type": "markdown",
   "metadata": {},
   "source": [
    "Linked List Cycle: using 2 pointers that move at different speeds and see if they ever catch up to each other"
   ]
  },
  {
   "cell_type": "code",
   "execution_count": null,
   "metadata": {},
   "outputs": [],
   "source": [
    "def hasCycle(self, head):\n",
    "    slow = fast = head\n",
    "\n",
    "    while(fast and fast.next):\n",
    "        fast = fast.next.next\n",
    "        slow = slow.next\n",
    "        if(fast == slow):\n",
    "            return True\n",
    "    return False"
   ]
  },
  {
   "cell_type": "markdown",
   "metadata": {},
   "source": [
    "Reverse Linked List: change the directions of the pointers so they are flipped. 3 pointers. Iterate the head while using a cur and prev pointer to flip directions."
   ]
  },
  {
   "cell_type": "code",
   "execution_count": 15,
   "metadata": {},
   "outputs": [
    {
     "name": "stdout",
     "output_type": "stream",
     "text": [
      "10\n",
      "4\n",
      "5\n",
      "4\n",
      "2\n",
      "1\n"
     ]
    }
   ],
   "source": [
    "list1 = ListNode(1, ListNode(2, ListNode(4, ListNode(5, ListNode(4, ListNode(10))))))\n",
    "\n",
    "def reverseList(head):\n",
    "    prev = None\n",
    "    while(head):\n",
    "        cur = head\n",
    "        head = head.next\n",
    "        cur.next = prev\n",
    "        prev = cur\n",
    "\n",
    "    while(prev):\n",
    "        print(prev.val)\n",
    "        prev = prev.next\n",
    "    return prev\n",
    "\n",
    "reverseList(list1)\n",
    "\n",
    "        \n"
   ]
  },
  {
   "cell_type": "markdown",
   "metadata": {},
   "source": [
    "Middle of Linked List: use 2 pointers going at different speeds to find the middle."
   ]
  },
  {
   "cell_type": "code",
   "execution_count": 19,
   "metadata": {},
   "outputs": [
    {
     "data": {
      "text/plain": [
       "4"
      ]
     },
     "execution_count": 19,
     "metadata": {},
     "output_type": "execute_result"
    }
   ],
   "source": [
    "list1 = ListNode(1, ListNode(2, ListNode(4, ListNode(5, ListNode(4)))))\n",
    "\n",
    "def middleNode(head):\n",
    "    slow = fast = head\n",
    "    while(fast and fast.next):\n",
    "        slow = slow.next\n",
    "        fast = fast.next.next\n",
    "    return slow\n",
    "\n",
    "middleNode(list1).val\n"
   ]
  }
 ],
 "metadata": {
  "kernelspec": {
   "display_name": "Python 3.8.9 64-bit",
   "language": "python",
   "name": "python3"
  },
  "language_info": {
   "codemirror_mode": {
    "name": "ipython",
    "version": 3
   },
   "file_extension": ".py",
   "mimetype": "text/x-python",
   "name": "python",
   "nbconvert_exporter": "python",
   "pygments_lexer": "ipython3",
   "version": "3.8.9"
  },
  "orig_nbformat": 4,
  "vscode": {
   "interpreter": {
    "hash": "31f2aee4e71d21fbe5cf8b01ff0e069b9275f58929596ceb00d14d90e3e16cd6"
   }
  }
 },
 "nbformat": 4,
 "nbformat_minor": 2
}
