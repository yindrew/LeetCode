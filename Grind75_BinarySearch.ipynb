{
 "cells": [
  {
   "cell_type": "markdown",
   "metadata": {},
   "source": [
    "Binary Search:  using either a recurisve function to keep doing a binary search or a while loop\n",
    "to continously check if the value is the value"
   ]
  },
  {
   "cell_type": "code",
   "execution_count": 6,
   "metadata": {},
   "outputs": [
    {
     "data": {
      "text/plain": [
       "3.3333333333333335"
      ]
     },
     "execution_count": 6,
     "metadata": {},
     "output_type": "execute_result"
    }
   ],
   "source": [
    "nums = [-1,0,3,5,9,12] \n",
    "target = 9\n",
    "\n",
    "def search(nums, target):\n",
    "    def recSearch(nums, target, low, high):\n",
    "        if low > high:\n",
    "            return False\n",
    "        else:\n",
    "            mid = int((low + high) / 2)\n",
    "            if target == nums[mid]:\n",
    "                return mid\n",
    "            elif target > nums[mid]:\n",
    "                return recSearch(nums, target, mid + 1, high)\n",
    "            else:\n",
    "                return recSearch(nums, target, low, mid - 1)\n",
    "    return recSearch(nums, target, nums[0], nums[len(nums) - 1])\n",
    "\n",
    "\n",
    "\n",
    "\n",
    "\n",
    "search(nums, target)\n",
    "\n",
    "def search(self, nums, target):\n",
    "\n",
    "    l, r = 0, len(nums) - 1\n",
    "    \n",
    "    while l <= r:\n",
    "        mid = (l + r) // 2\n",
    "        if (target == nums[mid]):\n",
    "            return mid\n",
    "        elif (target < nums[mid]):\n",
    "            r = mid - 1\n",
    "        else:\n",
    "            l = mid + 1\n",
    "    return -1\n",
    "\n",
    "\n",
    "\n",
    "10 / 3"
   ]
  },
  {
   "cell_type": "markdown",
   "metadata": {},
   "source": [
    "First Bad Version: very simple binary search algo"
   ]
  },
  {
   "cell_type": "code",
   "execution_count": null,
   "metadata": {},
   "outputs": [],
   "source": [
    "def firstBadVersion(n):\n",
    "    l, r = 1, n\n",
    "\n",
    "    while (l < r):\n",
    "        mid = (l + r) // 2\n",
    "        if(isBadVersion(mid)):\n",
    "            r = mid\n",
    "        else:\n",
    "            l = mid + 1\n",
    "    return l\n",
    "\n",
    "\n",
    "        "
   ]
  }
 ],
 "metadata": {
  "kernelspec": {
   "display_name": "Python 3.8.9 64-bit",
   "language": "python",
   "name": "python3"
  },
  "language_info": {
   "codemirror_mode": {
    "name": "ipython",
    "version": 3
   },
   "file_extension": ".py",
   "mimetype": "text/x-python",
   "name": "python",
   "nbconvert_exporter": "python",
   "pygments_lexer": "ipython3",
   "version": "3.8.9"
  },
  "orig_nbformat": 4,
  "vscode": {
   "interpreter": {
    "hash": "31f2aee4e71d21fbe5cf8b01ff0e069b9275f58929596ceb00d14d90e3e16cd6"
   }
  }
 },
 "nbformat": 4,
 "nbformat_minor": 2
}
